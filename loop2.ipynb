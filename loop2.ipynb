{
 "cells": [
  {
   "cell_type": "code",
   "execution_count": null,
   "metadata": {},
   "outputs": [],
   "source": [
    "num=-3\n",
    "\n",
    "if num>0:\n",
    "    print(num,\" is a postive no\")\n",
    "print(\"This is always printed\")\n",
    "\n",
    "num=1\n",
    "if num>0:print(num,\"is a postive no\")\n",
    "print(\"this is always printed\")"
   ]
  },
  {
   "cell_type": "code",
   "execution_count": 9,
   "metadata": {},
   "outputs": [
    {
     "name": "stdout",
     "output_type": "stream",
     "text": [
      "enter a number4\n",
      "1\n",
      "23\n",
      "4\n",
      "56\n",
      "[1, 23, 4, 56]\n"
     ]
    }
   ],
   "source": [
    "#A1:\n",
    "\n",
    "list=[]\n",
    "\n",
    "n=int(input(\"enter a number\"))\n",
    "\n",
    "for i in range(0,n):\n",
    "    i=int(input())\n",
    "    if i==0:break\n",
    "    list.append(i)\n",
    "print(list)"
   ]
  },
  {
   "cell_type": "code",
   "execution_count": 5,
   "metadata": {},
   "outputs": [
    {
     "data": {
      "text/plain": [
       "'A2: list of first Name and Last name'"
      ]
     },
     "execution_count": 5,
     "metadata": {},
     "output_type": "execute_result"
    }
   ],
   "source": [
    "\"\"\"A2: list of first Name and Last name\"\"\""
   ]
  },
  {
   "cell_type": "code",
   "execution_count": 10,
   "metadata": {},
   "outputs": [
    {
     "name": "stdout",
     "output_type": "stream",
     "text": [
      "1\n",
      "2\n",
      "3\n"
     ]
    }
   ],
   "source": [
    "def names(*args):\n",
    "    for i in args:\n",
    "        print(i)\n",
    "names(1,2,3)\n",
    "        "
   ]
  },
  {
   "cell_type": "code",
   "execution_count": null,
   "metadata": {},
   "outputs": [],
   "source": [
    "\"\"\"A3 generate random Spelling\n",
    "\n",
    "1.Length of spelling should be randomly b/w 3 t 10\n",
    "2.any charcter could be \"A-Z\" or \"a-z\"or 0-9 randomly\n",
    "3.create dictonary for keys 1 to 1lakh with the generated spelling as their respective values\n",
    "4. make extract disctonaries (taking key-value pairs from above)\n",
    "    All spellings without any vowles\n",
    "    All Speling without any numbers\n",
    "    All spelling without alphabets 'A-M'\n",
    "\"\"\"\n"
   ]
  },
  {
   "cell_type": "code",
   "execution_count": null,
   "metadata": {},
   "outputs": [],
   "source": []
  }
 ],
 "metadata": {
  "kernelspec": {
   "display_name": "Python 3",
   "language": "python",
   "name": "python3"
  },
  "language_info": {
   "codemirror_mode": {
    "name": "ipython",
    "version": 3
   },
   "file_extension": ".py",
   "mimetype": "text/x-python",
   "name": "python",
   "nbconvert_exporter": "python",
   "pygments_lexer": "ipython3",
   "version": "3.7.4"
  }
 },
 "nbformat": 4,
 "nbformat_minor": 2
}
