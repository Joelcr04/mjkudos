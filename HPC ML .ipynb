{
 "cells": [
  {
   "cell_type": "markdown",
   "metadata": {},
   "source": [
    " Introduction to Machine Learning \n",
    " \n",
    "Machine Learning is a collection of algorithms and techniques used to create computational systems that learn from data in order to make predictions and inferences.\n",
    "\n",
    "Example:\n",
    "\n",
    "Recommendation System: YouTube brings videos for each of its users based on a recommendation system that believes that the individual user will be interested in. Similarly Amazon and other such e-retailers suggest products that the customer will be interested in and likely to purchase by looking at the purchase history for a customer and a large inventory of products. \n",
    "\n",
    "Spam detection: Email service providers use a machine learning model that can automatically detect and move the unsolicited messages to the spam folder."
   ]
  },
  {
   "cell_type": "markdown",
   "metadata": {},
   "source": [
    "# Executing data science projects require three key skills: \n",
    "    \n",
    "    1. Programming or hacking skills, \n",
    "    2. Math & Statistics, \n",
    "    3. Business or subject matter expertise for a given area of scope.\n"
   ]
  },
  {
   "cell_type": "markdown",
   "metadata": {},
   "source": [
    "# Machine Learning Categories "
   ]
  },
  {
   "cell_type": "markdown",
   "metadata": {},
   "source": [
    "1.Supervised Learning \n",
    "    |->Regression \n",
    "    |->Classification \n",
    "2.Unsupervised Learning \n",
    "    |->Clustering \n",
    "    |->Dimension Reduction \n",
    "    |->Anomaly Detection \n",
    "3.Reinforcement Learning "
   ]
  },
  {
   "cell_type": "markdown",
   "metadata": {},
   "source": [
    "# Feature Engineering \n",
    "\n",
    "The process of converting raw data into information into insight with a business context to address a particular business problem is an important aspect of feature engineering"
   ]
  },
  {
   "cell_type": "markdown",
   "metadata": {},
   "source": [
    "Dataset: Household Power Consumption\n",
    "\n",
    "## Import and Data loading"
   ]
  },
  {
   "cell_type": "code",
   "execution_count": 2,
   "metadata": {},
   "outputs": [],
   "source": [
    "import numpy as np \n",
    "import pandas as pd\n",
    "import seaborn as sns\n",
    "import matplotlib.pyplot as plt\n",
    "import os"
   ]
  },
  {
   "cell_type": "code",
   "execution_count": 3,
   "metadata": {},
   "outputs": [],
   "source": [
    "from sklearn.model_selection import train_test_split\n",
    "from sklearn.preprocessing import StandardScaler\n",
    "from sklearn.svm import SVR\n",
    "from sklearn.neighbors import KNeighborsRegressor\n",
    "from sklearn.linear_model import LinearRegression"
   ]
  },
  {
   "cell_type": "code",
   "execution_count": 4,
   "metadata": {},
   "outputs": [
    {
     "data": {
      "text/plain": [
       "'C:\\\\Users\\\\raghu'"
      ]
     },
     "execution_count": 4,
     "metadata": {},
     "output_type": "execute_result"
    }
   ],
   "source": [
    "os.getcwd()"
   ]
  },
  {
   "cell_type": "code",
   "execution_count": 5,
   "metadata": {},
   "outputs": [
    {
     "data": {
      "text/plain": [
       "'D:\\\\ML project'"
      ]
     },
     "execution_count": 5,
     "metadata": {},
     "output_type": "execute_result"
    }
   ],
   "source": [
    "os.chdir('D:\\ML project')\n",
    "os.getcwd()"
   ]
  },
  {
   "cell_type": "code",
   "execution_count": 6,
   "metadata": {},
   "outputs": [],
   "source": [
    "hpc=pd.read_csv(\"hpc_breakdowns.csv\",infer_datetime_format=True,parse_dates=[['Date','Time']], index_col='Date_Time')\n"
   ]
  },
  {
   "cell_type": "code",
   "execution_count": 7,
   "metadata": {},
   "outputs": [
    {
     "data": {
      "text/html": [
       "<div>\n",
       "<style scoped>\n",
       "    .dataframe tbody tr th:only-of-type {\n",
       "        vertical-align: middle;\n",
       "    }\n",
       "\n",
       "    .dataframe tbody tr th {\n",
       "        vertical-align: top;\n",
       "    }\n",
       "\n",
       "    .dataframe thead th {\n",
       "        text-align: right;\n",
       "    }\n",
       "</style>\n",
       "<table border=\"1\" class=\"dataframe\">\n",
       "  <thead>\n",
       "    <tr style=\"text-align: right;\">\n",
       "      <th></th>\n",
       "      <th>Unnamed: 0</th>\n",
       "      <th>Global_active_power</th>\n",
       "      <th>Global_reactive_power</th>\n",
       "      <th>Voltage</th>\n",
       "      <th>Global_intensity</th>\n",
       "      <th>Sub_metering_1</th>\n",
       "      <th>Sub_metering_2</th>\n",
       "      <th>Sub_metering_3</th>\n",
       "    </tr>\n",
       "    <tr>\n",
       "      <th>Date_Time</th>\n",
       "      <th></th>\n",
       "      <th></th>\n",
       "      <th></th>\n",
       "      <th></th>\n",
       "      <th></th>\n",
       "      <th></th>\n",
       "      <th></th>\n",
       "      <th></th>\n",
       "    </tr>\n",
       "  </thead>\n",
       "  <tbody>\n",
       "    <tr>\n",
       "      <td>2006-12-16 17:24:00</td>\n",
       "      <td>0</td>\n",
       "      <td>4.216</td>\n",
       "      <td>0.418</td>\n",
       "      <td>234.84</td>\n",
       "      <td>18.4</td>\n",
       "      <td>0.0</td>\n",
       "      <td>1.0</td>\n",
       "      <td>17.0</td>\n",
       "    </tr>\n",
       "    <tr>\n",
       "      <td>2006-12-16 17:25:00</td>\n",
       "      <td>1</td>\n",
       "      <td>5.360</td>\n",
       "      <td>0.436</td>\n",
       "      <td>233.63</td>\n",
       "      <td>23.0</td>\n",
       "      <td>0.0</td>\n",
       "      <td>1.0</td>\n",
       "      <td>16.0</td>\n",
       "    </tr>\n",
       "    <tr>\n",
       "      <td>2006-12-16 17:26:00</td>\n",
       "      <td>2</td>\n",
       "      <td>5.374</td>\n",
       "      <td>0.498</td>\n",
       "      <td>233.29</td>\n",
       "      <td>23.0</td>\n",
       "      <td>0.0</td>\n",
       "      <td>2.0</td>\n",
       "      <td>17.0</td>\n",
       "    </tr>\n",
       "    <tr>\n",
       "      <td>2006-12-16 17:27:00</td>\n",
       "      <td>3</td>\n",
       "      <td>5.388</td>\n",
       "      <td>0.502</td>\n",
       "      <td>233.74</td>\n",
       "      <td>23.0</td>\n",
       "      <td>0.0</td>\n",
       "      <td>1.0</td>\n",
       "      <td>17.0</td>\n",
       "    </tr>\n",
       "    <tr>\n",
       "      <td>2006-12-16 17:28:00</td>\n",
       "      <td>4</td>\n",
       "      <td>3.666</td>\n",
       "      <td>0.528</td>\n",
       "      <td>235.68</td>\n",
       "      <td>15.8</td>\n",
       "      <td>0.0</td>\n",
       "      <td>1.0</td>\n",
       "      <td>17.0</td>\n",
       "    </tr>\n",
       "  </tbody>\n",
       "</table>\n",
       "</div>"
      ],
      "text/plain": [
       "                     Unnamed: 0  Global_active_power  Global_reactive_power  \\\n",
       "Date_Time                                                                     \n",
       "2006-12-16 17:24:00           0                4.216                  0.418   \n",
       "2006-12-16 17:25:00           1                5.360                  0.436   \n",
       "2006-12-16 17:26:00           2                5.374                  0.498   \n",
       "2006-12-16 17:27:00           3                5.388                  0.502   \n",
       "2006-12-16 17:28:00           4                3.666                  0.528   \n",
       "\n",
       "                     Voltage  Global_intensity  Sub_metering_1  \\\n",
       "Date_Time                                                        \n",
       "2006-12-16 17:24:00   234.84              18.4             0.0   \n",
       "2006-12-16 17:25:00   233.63              23.0             0.0   \n",
       "2006-12-16 17:26:00   233.29              23.0             0.0   \n",
       "2006-12-16 17:27:00   233.74              23.0             0.0   \n",
       "2006-12-16 17:28:00   235.68              15.8             0.0   \n",
       "\n",
       "                     Sub_metering_2  Sub_metering_3  \n",
       "Date_Time                                            \n",
       "2006-12-16 17:24:00             1.0            17.0  \n",
       "2006-12-16 17:25:00             1.0            16.0  \n",
       "2006-12-16 17:26:00             2.0            17.0  \n",
       "2006-12-16 17:27:00             1.0            17.0  \n",
       "2006-12-16 17:28:00             1.0            17.0  "
      ]
     },
     "execution_count": 7,
     "metadata": {},
     "output_type": "execute_result"
    }
   ],
   "source": [
    "hpc.head()"
   ]
  },
  {
   "cell_type": "code",
   "execution_count": 8,
   "metadata": {},
   "outputs": [
    {
     "data": {
      "text/plain": [
       "Unnamed: 0               2049280\n",
       "Global_active_power      2047237\n",
       "Global_reactive_power    2048803\n",
       "Voltage                  2047249\n",
       "Global_intensity         2047279\n",
       "Sub_metering_1           2047983\n",
       "Sub_metering_2           2048070\n",
       "Sub_metering_3           2049151\n",
       "dtype: int64"
      ]
     },
     "execution_count": 8,
     "metadata": {},
     "output_type": "execute_result"
    }
   ],
   "source": [
    "hpc.count()"
   ]
  },
  {
   "cell_type": "markdown",
   "metadata": {},
   "source": [
    "# Data Analysis"
   ]
  },
  {
   "cell_type": "markdown",
   "metadata": {},
   "source": [
    "Dealing with Missing Data \n",
    "\n",
    "1. Delete->dropna()\n",
    "2. Replace with summary->fillna()\n",
    "3. Random replace: You can also replace the missing values with a randomly picked value from the respective column. \n",
    "4. Using predictive model: This is an advanced technique. Here you can train a regression model for continuous variables and classification model for categorical variables with the available data and use the model to predict the missing values.\n"
   ]
  },
  {
   "cell_type": "markdown",
   "metadata": {},
   "source": [
    "Find Missing value"
   ]
  },
  {
   "cell_type": "code",
   "execution_count": 9,
   "metadata": {},
   "outputs": [
    {
     "data": {
      "text/plain": [
       "Unnamed: 0                  0\n",
       "Global_active_power      2043\n",
       "Global_reactive_power     477\n",
       "Voltage                  2031\n",
       "Global_intensity         2001\n",
       "Sub_metering_1           1297\n",
       "Sub_metering_2           1210\n",
       "Sub_metering_3            129\n",
       "dtype: int64"
      ]
     },
     "execution_count": 9,
     "metadata": {},
     "output_type": "execute_result"
    }
   ],
   "source": [
    "hpc.isnull().sum()"
   ]
  },
  {
   "cell_type": "markdown",
   "metadata": {},
   "source": [
    "Visualize Missing value"
   ]
  },
  {
   "cell_type": "code",
   "execution_count": 10,
   "metadata": {},
   "outputs": [
    {
     "data": {
      "text/plain": [
       "<matplotlib.axes._subplots.AxesSubplot at 0x2a77b2eac88>"
      ]
     },
     "execution_count": 10,
     "metadata": {},
     "output_type": "execute_result"
    },
    {
     "data": {
      "image/png": "[encoded data removed]",
      "text/plain": [
       "<Figure size 720x360 with 1 Axes>"
      ]
     },
     "metadata": {
      "needs_background": "light"
     },
     "output_type": "display_data"
    }
   ],
   "source": [
    "plt.figure(figsize=(10,5))\n",
    "sns.boxplot(data = hpc)"
   ]
  },
  {
   "cell_type": "code",
   "execution_count": 11,
   "metadata": {},
   "outputs": [
    {
     "data": {
      "text/plain": [
       "<matplotlib.axes._subplots.AxesSubplot at 0x2a77b60fbc8>"
      ]
     },
     "execution_count": 11,
     "metadata": {},
     "output_type": "execute_result"
    },
    {
     "data": {
      "image/png": "[encoded data removed]",
      "text/plain": [
       "<Figure size 720x576 with 1 Axes>"
      ]
     },
     "metadata": {
      "needs_background": "light"
     },
     "output_type": "display_data"
    }
   ],
   "source": [
    "plt.figure(figsize=(10,8))\n",
    "sns.boxplot(data = hpc.iloc[:, :2])"
   ]
  },
  {
   "cell_type": "code",
   "execution_count": 12,
   "metadata": {},
   "outputs": [
    {
     "data": {
      "text/plain": [
       "<matplotlib.axes._subplots.AxesSubplot at 0x2a77b4538c8>"
      ]
     },
     "execution_count": 12,
     "metadata": {},
     "output_type": "execute_result"
    },
    {
     "data": {
      "image/png": "[encoded data removed]",
      "text/plain": [
       "<Figure size 720x576 with 1 Axes>"
      ]
     },
     "metadata": {
      "needs_background": "light"
     },
     "output_type": "display_data"
    }
   ],
   "source": [
    "plt.figure(figsize=(10,8))\n",
    "sns.boxplot(data = hpc.iloc[:, 2])"
   ]
  },
  {
   "cell_type": "code",
   "execution_count": 13,
   "metadata": {},
   "outputs": [
    {
     "data": {
      "text/plain": [
       "<matplotlib.axes._subplots.AxesSubplot at 0x2a77b620988>"
      ]
     },
     "execution_count": 13,
     "metadata": {},
     "output_type": "execute_result"
    },
    {
     "data": {
      "image/png": "[encoded data removed]",
      "text/plain": [
       "<Figure size 720x576 with 1 Axes>"
      ]
     },
     "metadata": {
      "needs_background": "light"
     },
     "output_type": "display_data"
    }
   ],
   "source": [
    "plt.figure(figsize=(10,8))\n",
    "sns.boxplot(data = hpc.iloc[:, 3])"
   ]
  },
  {
   "cell_type": "code",
   "execution_count": 14,
   "metadata": {},
   "outputs": [
    {
     "data": {
      "text/plain": [
       "<matplotlib.axes._subplots.AxesSubplot at 0x2a77b4bc088>"
      ]
     },
     "execution_count": 14,
     "metadata": {},
     "output_type": "execute_result"
    },
    {
     "data": {
      "image/png": "[encoded data removed]",
      "text/plain": [
       "<Figure size 720x576 with 1 Axes>"
      ]
     },
     "metadata": {
      "needs_background": "light"
     },
     "output_type": "display_data"
    }
   ],
   "source": [
    "plt.figure(figsize=(10,8))\n",
    "sns.boxplot(data = hpc.iloc[:, 6])"
   ]
  },
  {
   "cell_type": "markdown",
   "metadata": {},
   "source": [
    "Removing Missing value"
   ]
  },
  {
   "cell_type": "code",
   "execution_count": 15,
   "metadata": {},
   "outputs": [],
   "source": [
    "for i in range(0,8):        \n",
    "        hpc.iloc[:,i]=hpc.iloc[:,i].fillna(hpc.iloc[:,i].mean())"
   ]
  },
  {
   "cell_type": "code",
   "execution_count": 16,
   "metadata": {},
   "outputs": [
    {
     "data": {
      "text/plain": [
       "Unnamed: 0               0\n",
       "Global_active_power      0\n",
       "Global_reactive_power    0\n",
       "Voltage                  0\n",
       "Global_intensity         0\n",
       "Sub_metering_1           0\n",
       "Sub_metering_2           0\n",
       "Sub_metering_3           0\n",
       "dtype: int64"
      ]
     },
     "execution_count": 16,
     "metadata": {},
     "output_type": "execute_result"
    }
   ],
   "source": [
    "hpc.isnull().sum()"
   ]
  },
  {
   "cell_type": "markdown",
   "metadata": {},
   "source": [
    "# Normalizing Data \n",
    "\n",
    "A unit or scale of measurement for different variables varies, so an analysis with the raw measurement could be artificially skewed toward the variables with higher absolute values. Bringing all the different types of variable units in the same order of magnitude thus eliminates the potential outlier measurements that would misrepresent the finding and negatively affect the accuracy of the conclusion.\n"
   ]
  },
  {
   "cell_type": "markdown",
   "metadata": {},
   "source": [
    "Rescaling of Data\n",
    "\n",
    "1. Normalization :Normalizing data can be achieved by Min-Max scaling\n",
    "2. Standardization:The standardization technique will transform the variables to have a zero mean and standard deviation of one"
   ]
  },
  {
   "cell_type": "markdown",
   "metadata": {},
   "source": [
    "Before Scaling"
   ]
  },
  {
   "cell_type": "code",
   "execution_count": 17,
   "metadata": {},
   "outputs": [
    {
     "data": {
      "text/html": [
       "<div>\n",
       "<style scoped>\n",
       "    .dataframe tbody tr th:only-of-type {\n",
       "        vertical-align: middle;\n",
       "    }\n",
       "\n",
       "    .dataframe tbody tr th {\n",
       "        vertical-align: top;\n",
       "    }\n",
       "\n",
       "    .dataframe thead th {\n",
       "        text-align: right;\n",
       "    }\n",
       "</style>\n",
       "<table border=\"1\" class=\"dataframe\">\n",
       "  <thead>\n",
       "    <tr style=\"text-align: right;\">\n",
       "      <th></th>\n",
       "      <th>Unnamed: 0</th>\n",
       "      <th>Global_active_power</th>\n",
       "      <th>Global_reactive_power</th>\n",
       "      <th>Voltage</th>\n",
       "      <th>Global_intensity</th>\n",
       "      <th>Sub_metering_1</th>\n",
       "      <th>Sub_metering_2</th>\n",
       "      <th>Sub_metering_3</th>\n",
       "    </tr>\n",
       "  </thead>\n",
       "  <tbody>\n",
       "    <tr>\n",
       "      <td>count</td>\n",
       "      <td>2.049280e+06</td>\n",
       "      <td>2.049280e+06</td>\n",
       "      <td>2.049280e+06</td>\n",
       "      <td>2.049280e+06</td>\n",
       "      <td>2.049280e+06</td>\n",
       "      <td>2.049280e+06</td>\n",
       "      <td>2.049280e+06</td>\n",
       "      <td>2.049280e+06</td>\n",
       "    </tr>\n",
       "    <tr>\n",
       "      <td>mean</td>\n",
       "      <td>1.031496e+06</td>\n",
       "      <td>1.091655e+00</td>\n",
       "      <td>1.237129e-01</td>\n",
       "      <td>2.408405e+02</td>\n",
       "      <td>4.627869e+00</td>\n",
       "      <td>1.122227e+00</td>\n",
       "      <td>1.298954e+00</td>\n",
       "      <td>6.458394e+00</td>\n",
       "    </tr>\n",
       "    <tr>\n",
       "      <td>std</td>\n",
       "      <td>5.964586e+05</td>\n",
       "      <td>1.056763e+00</td>\n",
       "      <td>1.127109e-01</td>\n",
       "      <td>3.237233e+00</td>\n",
       "      <td>4.442524e+00</td>\n",
       "      <td>6.152031e+00</td>\n",
       "      <td>5.821653e+00</td>\n",
       "      <td>8.436885e+00</td>\n",
       "    </tr>\n",
       "    <tr>\n",
       "      <td>min</td>\n",
       "      <td>0.000000e+00</td>\n",
       "      <td>7.600000e-02</td>\n",
       "      <td>0.000000e+00</td>\n",
       "      <td>2.232000e+02</td>\n",
       "      <td>2.000000e-01</td>\n",
       "      <td>0.000000e+00</td>\n",
       "      <td>0.000000e+00</td>\n",
       "      <td>0.000000e+00</td>\n",
       "    </tr>\n",
       "    <tr>\n",
       "      <td>25%</td>\n",
       "      <td>5.162538e+05</td>\n",
       "      <td>3.080000e-01</td>\n",
       "      <td>4.800000e-02</td>\n",
       "      <td>2.389900e+02</td>\n",
       "      <td>1.400000e+00</td>\n",
       "      <td>0.000000e+00</td>\n",
       "      <td>0.000000e+00</td>\n",
       "      <td>0.000000e+00</td>\n",
       "    </tr>\n",
       "    <tr>\n",
       "      <td>50%</td>\n",
       "      <td>1.028638e+06</td>\n",
       "      <td>6.040000e-01</td>\n",
       "      <td>1.000000e-01</td>\n",
       "      <td>2.410000e+02</td>\n",
       "      <td>2.600000e+00</td>\n",
       "      <td>0.000000e+00</td>\n",
       "      <td>0.000000e+00</td>\n",
       "      <td>1.000000e+00</td>\n",
       "    </tr>\n",
       "    <tr>\n",
       "      <td>75%</td>\n",
       "      <td>1.545307e+06</td>\n",
       "      <td>1.528000e+00</td>\n",
       "      <td>1.940000e-01</td>\n",
       "      <td>2.428800e+02</td>\n",
       "      <td>6.400000e+00</td>\n",
       "      <td>0.000000e+00</td>\n",
       "      <td>1.000000e+00</td>\n",
       "      <td>1.700000e+01</td>\n",
       "    </tr>\n",
       "    <tr>\n",
       "      <td>max</td>\n",
       "      <td>2.075258e+06</td>\n",
       "      <td>1.112200e+01</td>\n",
       "      <td>1.390000e+00</td>\n",
       "      <td>2.541500e+02</td>\n",
       "      <td>4.840000e+01</td>\n",
       "      <td>8.800000e+01</td>\n",
       "      <td>8.000000e+01</td>\n",
       "      <td>3.100000e+01</td>\n",
       "    </tr>\n",
       "  </tbody>\n",
       "</table>\n",
       "</div>"
      ],
      "text/plain": [
       "         Unnamed: 0  Global_active_power  Global_reactive_power       Voltage  \\\n",
       "count  2.049280e+06         2.049280e+06           2.049280e+06  2.049280e+06   \n",
       "mean   1.031496e+06         1.091655e+00           1.237129e-01  2.408405e+02   \n",
       "std    5.964586e+05         1.056763e+00           1.127109e-01  3.237233e+00   \n",
       "min    0.000000e+00         7.600000e-02           0.000000e+00  2.232000e+02   \n",
       "25%    5.162538e+05         3.080000e-01           4.800000e-02  2.389900e+02   \n",
       "50%    1.028638e+06         6.040000e-01           1.000000e-01  2.410000e+02   \n",
       "75%    1.545307e+06         1.528000e+00           1.940000e-01  2.428800e+02   \n",
       "max    2.075258e+06         1.112200e+01           1.390000e+00  2.541500e+02   \n",
       "\n",
       "       Global_intensity  Sub_metering_1  Sub_metering_2  Sub_metering_3  \n",
       "count      2.049280e+06    2.049280e+06    2.049280e+06    2.049280e+06  \n",
       "mean       4.627869e+00    1.122227e+00    1.298954e+00    6.458394e+00  \n",
       "std        4.442524e+00    6.152031e+00    5.821653e+00    8.436885e+00  \n",
       "min        2.000000e-01    0.000000e+00    0.000000e+00    0.000000e+00  \n",
       "25%        1.400000e+00    0.000000e+00    0.000000e+00    0.000000e+00  \n",
       "50%        2.600000e+00    0.000000e+00    0.000000e+00    1.000000e+00  \n",
       "75%        6.400000e+00    0.000000e+00    1.000000e+00    1.700000e+01  \n",
       "max        4.840000e+01    8.800000e+01    8.000000e+01    3.100000e+01  "
      ]
     },
     "execution_count": 17,
     "metadata": {},
     "output_type": "execute_result"
    }
   ],
   "source": [
    "hpc.describe()"
   ]
  },
  {
   "cell_type": "markdown",
   "metadata": {},
   "source": [
    "After Scaling"
   ]
  },
  {
   "cell_type": "code",
   "execution_count": 18,
   "metadata": {},
   "outputs": [],
   "source": [
    "x = hpc.iloc[0:8].values "
   ]
  },
  {
   "cell_type": "code",
   "execution_count": 19,
   "metadata": {},
   "outputs": [
    {
     "name": "stdout",
     "output_type": "stream",
     "text": [
      "\n",
      "Original data values : \n",
      " [[  0.      4.216   0.418 234.84   18.4     0.      1.     17.   ]\n",
      " [  1.      5.36    0.436 233.63   23.      0.      1.     16.   ]\n",
      " [  2.      5.374   0.498 233.29   23.      0.      2.     17.   ]\n",
      " [  3.      5.388   0.502 233.74   23.      0.      1.     17.   ]\n",
      " [  4.      3.666   0.528 235.68   15.8     0.      1.     17.   ]\n",
      " [  5.      3.52    0.522 235.02   15.      0.      2.     17.   ]\n",
      " [  6.      3.702   0.52  235.09   15.8     0.      1.     17.   ]\n",
      " [  7.      3.7     0.52  235.22   15.8     0.      1.     17.   ]]\n"
     ]
    }
   ],
   "source": [
    "print (\"\\nOriginal data values : \\n\",  x) "
   ]
  },
  {
   "cell_type": "code",
   "execution_count": 20,
   "metadata": {},
   "outputs": [
    {
     "name": "stdout",
     "output_type": "stream",
     "text": [
      "\n",
      "After min max Scaling : \n",
      " [[0.         0.37259101 0.         0.64853556 0.425      0.\n",
      "  0.         1.        ]\n",
      " [0.14285714 0.98501071 0.16363636 0.14225941 1.         0.\n",
      "  0.         0.        ]\n",
      " [0.28571429 0.99250535 0.72727273 0.         1.         0.\n",
      "  1.         1.        ]\n",
      " [0.42857143 1.         0.76363636 0.18828452 1.         0.\n",
      "  0.         1.        ]\n",
      " [0.57142857 0.07815846 1.         1.         0.1        0.\n",
      "  0.         1.        ]\n",
      " [0.71428571 0.         0.94545455 0.72384937 0.         0.\n",
      "  1.         1.        ]\n",
      " [0.85714286 0.09743041 0.92727273 0.75313808 0.1        0.\n",
      "  0.         1.        ]\n",
      " [1.         0.09635974 0.92727273 0.80753138 0.1        0.\n",
      "  0.         1.        ]]\n"
     ]
    }
   ],
   "source": [
    "from sklearn import preprocessing \n",
    "  \n",
    "\"\"\" MIN MAX SCALER \"\"\"\n",
    "  \n",
    "min_max_scaler = preprocessing.MinMaxScaler(feature_range =(0, 1)) \n",
    "  \n",
    "# Scaled feature \n",
    "hpc_min_max = min_max_scaler.fit_transform(x) \n",
    "  \n",
    "print (\"\\nAfter min max Scaling : \\n\",hpc_min_max) \n",
    "  "
   ]
  },
  {
   "cell_type": "code",
   "execution_count": 21,
   "metadata": {},
   "outputs": [
    {
     "name": "stdout",
     "output_type": "stream",
     "text": [
      "\n",
      "After Standardisation : \n",
      " [[-1.52752523 -0.18643795 -1.89706309  0.33589924 -0.0945736   0.\n",
      "  -0.57735027  0.37796447]\n",
      " [-1.09108945  1.23783592 -1.44176795 -1.13536981  1.24400654  0.\n",
      "  -0.57735027 -2.64575131]\n",
      " [-0.65465367  1.25526585  0.12647087 -1.54878426  1.24400654  0.\n",
      "   1.73205081  0.37796447]\n",
      " [-0.21821789  1.27269577  0.22764757 -1.00161808  1.24400654  0.\n",
      "  -0.57735027  0.37796447]\n",
      " [ 0.21821789 -0.871185    0.88529611  1.35727609 -0.85116237  0.\n",
      "  -0.57735027  0.37796447]\n",
      " [ 0.65465367 -1.05295422  0.73353106  0.55476571 -1.08395891  0.\n",
      "   1.73205081  0.37796447]\n",
      " [ 1.09108945 -0.82636519  0.68294271  0.63988044 -0.85116237  0.\n",
      "  -0.57735027  0.37796447]\n",
      " [ 1.52752523 -0.82885518  0.68294271  0.79795067 -0.85116237  0.\n",
      "  -0.57735027  0.37796447]]\n"
     ]
    }
   ],
   "source": [
    "\"\"\" Standardisation \"\"\"\n",
    "  \n",
    "Standardisation = preprocessing.StandardScaler() \n",
    "  \n",
    "# Scaled feature \n",
    "hpc_std = Standardisation.fit_transform(x) \n",
    "  \n",
    "print (\"\\nAfter Standardisation : \\n\", hpc_std) "
   ]
  },
  {
   "cell_type": "code",
   "execution_count": 22,
   "metadata": {},
   "outputs": [],
   "source": [
    "hpc_pw = pd.DataFrame({'Global_active_power': hpc_std[:, 0], 'Global_reactive_power': hpc_std[:, 1],'Voltage':hpc_std[:, 2],'Global_intensity':hpc_std[:, 3] \\\n",
    "                ,'Sub_metering_1': hpc_std[:, 4], 'Sub_metering_2': hpc_std[:, 5],'Sub_metering_3': hpc_std[:, 5]})"
   ]
  },
  {
   "cell_type": "markdown",
   "metadata": {},
   "source": [
    "# Exploratory Data Analysis "
   ]
  },
  {
   "cell_type": "code",
   "execution_count": 23,
   "metadata": {},
   "outputs": [
    {
     "data": {
      "text/plain": [
       "array([[<matplotlib.axes._subplots.AxesSubplot object at 0x000002A70BB1B148>,\n",
       "        <matplotlib.axes._subplots.AxesSubplot object at 0x000002A70BDC8088>,\n",
       "        <matplotlib.axes._subplots.AxesSubplot object at 0x000002A70BDFB508>],\n",
       "       [<matplotlib.axes._subplots.AxesSubplot object at 0x000002A70C102648>,\n",
       "        <matplotlib.axes._subplots.AxesSubplot object at 0x000002A70C13A748>,\n",
       "        <matplotlib.axes._subplots.AxesSubplot object at 0x000002A70C173788>],\n",
       "       [<matplotlib.axes._subplots.AxesSubplot object at 0x000002A70C1AB8C8>,\n",
       "        <matplotlib.axes._subplots.AxesSubplot object at 0x000002A70C1E39C8>,\n",
       "        <matplotlib.axes._subplots.AxesSubplot object at 0x000002A70C1EDE48>]],\n",
       "      dtype=object)"
      ]
     },
     "execution_count": 23,
     "metadata": {},
     "output_type": "execute_result"
    },
    {
     "data": {
      "text/plain": [
       "<Figure size 720x360 with 0 Axes>"
      ]
     },
     "metadata": {},
     "output_type": "display_data"
    },
    {
     "data": {
      "image/png": "[encoded data removed]",
      "text/plain": [
       "<Figure size 432x288 with 9 Axes>"
      ]
     },
     "metadata": {
      "needs_background": "light"
     },
     "output_type": "display_data"
    }
   ],
   "source": [
    "plt.figure(figsize=(10,5))\n",
    "hpc.hist()"
   ]
  },
  {
   "cell_type": "code",
   "execution_count": 24,
   "metadata": {},
   "outputs": [
    {
     "data": {
      "text/plain": [
       "<matplotlib.axes._subplots.AxesSubplot at 0x2a70c69ed48>"
      ]
     },
     "execution_count": 24,
     "metadata": {},
     "output_type": "execute_result"
    },
    {
     "data": {
      "image/png": "[encoded data removed]",
      "text/plain": [
       "<Figure size 720x360 with 1 Axes>"
      ]
     },
     "metadata": {
      "needs_background": "light"
     },
     "output_type": "display_data"
    }
   ],
   "source": [
    "plt.figure(figsize=(10,5))\n",
    "hpc.boxplot()"
   ]
  },
  {
   "cell_type": "markdown",
   "metadata": {},
   "source": [
    "Correlation Matrix "
   ]
  },
  {
   "cell_type": "code",
   "execution_count": 25,
   "metadata": {},
   "outputs": [
    {
     "data": {
      "text/plain": [
       "<matplotlib.axes._subplots.AxesSubplot at 0x2a70d867648>"
      ]
     },
     "execution_count": 25,
     "metadata": {},
     "output_type": "execute_result"
    },
    {
     "data": {
      "image/png": "[encoded data removed]",
      "text/plain": [
       "<Figure size 432x288 with 2 Axes>"
      ]
     },
     "metadata": {
      "needs_background": "light"
     },
     "output_type": "display_data"
    }
   ],
   "source": [
    "corr = hpc.corr()\n",
    "sns.heatmap(corr, annot=True)"
   ]
  },
  {
   "cell_type": "code",
   "execution_count": 26,
   "metadata": {},
   "outputs": [
    {
     "data": {
      "text/plain": [
       "<matplotlib.axes._subplots.AxesSubplot at 0x2a70dc36a88>"
      ]
     },
     "execution_count": 26,
     "metadata": {},
     "output_type": "execute_result"
    },
    {
     "data": {
      "image/png": "[encoded data removed]",
      "text/plain": [
       "<Figure size 432x288 with 1 Axes>"
      ]
     },
     "metadata": {
      "needs_background": "light"
     },
     "output_type": "display_data"
    }
   ],
   "source": [
    "hpc.plot(kind=\"scatter\",x=\"Global_active_power\",y=\"Global_reactive_power\")"
   ]
  },
  {
   "cell_type": "code",
   "execution_count": 27,
   "metadata": {},
   "outputs": [
    {
     "data": {
      "text/plain": [
       "<matplotlib.axes._subplots.AxesSubplot at 0x2a70dd50788>"
      ]
     },
     "execution_count": 27,
     "metadata": {},
     "output_type": "execute_result"
    },
    {
     "data": {
      "image/png": "[encoded data removed]",
      "text/plain": [
       "<Figure size 432x288 with 1 Axes>"
      ]
     },
     "metadata": {
      "needs_background": "light"
     },
     "output_type": "display_data"
    }
   ],
   "source": [
    "hpc.plot(kind=\"scatter\",x=\"Global_reactive_power\",y=\"Voltage\")"
   ]
  },
  {
   "cell_type": "code",
   "execution_count": 28,
   "metadata": {},
   "outputs": [
    {
     "data": {
      "text/plain": [
       "Unnamed: 0               3.759743e+11\n",
       "Global_active_power      8.942071e-02\n",
       "Global_reactive_power    4.797167e-04\n",
       "Voltage                  2.417981e+00\n",
       "Global_intensity         1.481130e+00\n",
       "Sub_metering_1           1.139900e-01\n",
       "Sub_metering_2           1.507990e-01\n",
       "Sub_metering_3           2.355288e+00\n",
       "dtype: float64"
      ]
     },
     "execution_count": 28,
     "metadata": {},
     "output_type": "execute_result"
    }
   ],
   "source": [
    "#resampling Calculate power consumed per month month data\n",
    "\n",
    "hpc_res = hpc.resample('M').mean()\n",
    "hpc_res.var()"
   ]
  },
  {
   "cell_type": "code",
   "execution_count": 29,
   "metadata": {},
   "outputs": [],
   "source": [
    "hpc.drop(['Unnamed: 0'],inplace=True,axis=1)"
   ]
  },
  {
   "cell_type": "code",
   "execution_count": 50,
   "metadata": {},
   "outputs": [
    {
     "data": {
      "text/plain": [
       "Global_active_power      0.089421\n",
       "Global_reactive_power    0.000480\n",
       "Voltage                  2.417981\n",
       "Global_intensity         1.481130\n",
       "Sub_metering_1           0.113990\n",
       "Sub_metering_2           0.150799\n",
       "Sub_metering_3           2.355288\n",
       "dtype: float64"
      ]
     },
     "execution_count": 50,
     "metadata": {},
     "output_type": "execute_result"
    }
   ],
   "source": [
    "hpc_res = hpc.resample('M').mean()\n",
    "hpc_res.var()"
   ]
  },
  {
   "cell_type": "code",
   "execution_count": 51,
   "metadata": {},
   "outputs": [
    {
     "data": {
      "text/html": [
       "<div>\n",
       "<style scoped>\n",
       "    .dataframe tbody tr th:only-of-type {\n",
       "        vertical-align: middle;\n",
       "    }\n",
       "\n",
       "    .dataframe tbody tr th {\n",
       "        vertical-align: top;\n",
       "    }\n",
       "\n",
       "    .dataframe thead th {\n",
       "        text-align: right;\n",
       "    }\n",
       "</style>\n",
       "<table border=\"1\" class=\"dataframe\">\n",
       "  <thead>\n",
       "    <tr style=\"text-align: right;\">\n",
       "      <th></th>\n",
       "      <th>Global_active_power</th>\n",
       "      <th>Global_reactive_power</th>\n",
       "      <th>Voltage</th>\n",
       "      <th>Global_intensity</th>\n",
       "      <th>Sub_metering_1</th>\n",
       "      <th>Sub_metering_2</th>\n",
       "      <th>Sub_metering_3</th>\n",
       "    </tr>\n",
       "    <tr>\n",
       "      <th>Date_Time</th>\n",
       "      <th></th>\n",
       "      <th></th>\n",
       "      <th></th>\n",
       "      <th></th>\n",
       "      <th></th>\n",
       "      <th></th>\n",
       "      <th></th>\n",
       "    </tr>\n",
       "  </thead>\n",
       "  <tbody>\n",
       "    <tr>\n",
       "      <td>2006-12-31</td>\n",
       "      <td>1.902314</td>\n",
       "      <td>0.131386</td>\n",
       "      <td>241.441125</td>\n",
       "      <td>8.021025</td>\n",
       "      <td>1.252769</td>\n",
       "      <td>2.214987</td>\n",
       "      <td>7.409558</td>\n",
       "    </tr>\n",
       "    <tr>\n",
       "      <td>2007-01-31</td>\n",
       "      <td>1.546008</td>\n",
       "      <td>0.132676</td>\n",
       "      <td>240.902849</td>\n",
       "      <td>6.548496</td>\n",
       "      <td>1.266726</td>\n",
       "      <td>1.775931</td>\n",
       "      <td>7.383351</td>\n",
       "    </tr>\n",
       "    <tr>\n",
       "      <td>2007-02-28</td>\n",
       "      <td>1.401084</td>\n",
       "      <td>0.113637</td>\n",
       "      <td>240.517972</td>\n",
       "      <td>5.915439</td>\n",
       "      <td>1.180217</td>\n",
       "      <td>1.602361</td>\n",
       "      <td>6.703557</td>\n",
       "    </tr>\n",
       "    <tr>\n",
       "      <td>2007-03-31</td>\n",
       "      <td>1.317567</td>\n",
       "      <td>0.114747</td>\n",
       "      <td>240.514361</td>\n",
       "      <td>5.572979</td>\n",
       "      <td>1.362047</td>\n",
       "      <td>2.346872</td>\n",
       "      <td>6.504648</td>\n",
       "    </tr>\n",
       "    <tr>\n",
       "      <td>2007-04-30</td>\n",
       "      <td>0.891857</td>\n",
       "      <td>0.118778</td>\n",
       "      <td>239.403557</td>\n",
       "      <td>3.825676</td>\n",
       "      <td>1.066256</td>\n",
       "      <td>0.973149</td>\n",
       "      <td>4.800339</td>\n",
       "    </tr>\n",
       "  </tbody>\n",
       "</table>\n",
       "</div>"
      ],
      "text/plain": [
       "            Global_active_power  Global_reactive_power     Voltage  \\\n",
       "Date_Time                                                            \n",
       "2006-12-31             1.902314               0.131386  241.441125   \n",
       "2007-01-31             1.546008               0.132676  240.902849   \n",
       "2007-02-28             1.401084               0.113637  240.517972   \n",
       "2007-03-31             1.317567               0.114747  240.514361   \n",
       "2007-04-30             0.891857               0.118778  239.403557   \n",
       "\n",
       "            Global_intensity  Sub_metering_1  Sub_metering_2  Sub_metering_3  \n",
       "Date_Time                                                                     \n",
       "2006-12-31          8.021025        1.252769        2.214987        7.409558  \n",
       "2007-01-31          6.548496        1.266726        1.775931        7.383351  \n",
       "2007-02-28          5.915439        1.180217        1.602361        6.703557  \n",
       "2007-03-31          5.572979        1.362047        2.346872        6.504648  \n",
       "2007-04-30          3.825676        1.066256        0.973149        4.800339  "
      ]
     },
     "execution_count": 51,
     "metadata": {},
     "output_type": "execute_result"
    }
   ],
   "source": [
    "hpc_res.head()"
   ]
  },
  {
   "cell_type": "markdown",
   "metadata": {},
   "source": [
    "Data Preprocessing"
   ]
  },
  {
   "cell_type": "code",
   "execution_count": 52,
   "metadata": {},
   "outputs": [],
   "source": [
    "X = hpc_res.drop('Global_intensity', axis = 1)\n",
    "y = hpc_res['Global_intensity']"
   ]
  },
  {
   "cell_type": "markdown",
   "metadata": {},
   "source": [
    "Performing Train Test Split"
   ]
  },
  {
   "cell_type": "code",
   "execution_count": 53,
   "metadata": {},
   "outputs": [],
   "source": [
    "X_train, X_test, y_train, y_test = train_test_split(X, y, test_size=0.35,  random_state=42)"
   ]
  },
  {
   "cell_type": "code",
   "execution_count": 54,
   "metadata": {},
   "outputs": [],
   "source": [
    "from sklearn.model_selection import train_test_split\n",
    "from sklearn.preprocessing import StandardScaler\n",
    "from sklearn.svm import SVR\n",
    "from sklearn.neighbors import KNeighborsRegressor\n",
    "from sklearn.linear_model import LinearRegression\n",
    "from sklearn.metrics import r2_score , mean_absolute_error, mean_squared_error\n"
   ]
  },
  {
   "cell_type": "code",
   "execution_count": 55,
   "metadata": {},
   "outputs": [],
   "source": [
    "knn = KNeighborsRegressor(n_neighbors=3)\n",
    "knn.fit(X_train, y_train)\n",
    "y_pred = knn.predict(X_test)"
   ]
  },
  {
   "cell_type": "code",
   "execution_count": 56,
   "metadata": {},
   "outputs": [
    {
     "name": "stdout",
     "output_type": "stream",
     "text": [
      "Training Score:  0.85767525457626\n",
      "Testing score:  0.7871341834624704\n",
      "Mean Squared Error:  0.24398685333544212\n",
      "R2_score:  0.7871341834624704\n",
      "Mean_Absolute_Error:  0.42158510559462464\n"
     ]
    }
   ],
   "source": [
    "print('Training Score: ', knn.score(X_train, y_train))\n",
    "print('Testing score: ', knn.score(X_test, y_test))\n",
    "print('Mean Squared Error: ', mean_squared_error(y_test, y_pred))\n",
    "print('R2_score: ', r2_score(y_test, y_pred))\n",
    "print('Mean_Absolute_Error: ', mean_absolute_error(y_test, y_pred))"
   ]
  },
  {
   "cell_type": "code",
   "execution_count": 57,
   "metadata": {},
   "outputs": [],
   "source": [
    "LR = LinearRegression()\n",
    "LR.fit(X_train, y_train)\n",
    "y_pred  =LR.predict(X_test)"
   ]
  },
  {
   "cell_type": "code",
   "execution_count": 58,
   "metadata": {},
   "outputs": [
    {
     "name": "stdout",
     "output_type": "stream",
     "text": [
      "Training Score:  0.9998451731896586\n",
      "Testing score:  0.9995928723119871\n",
      "Mean Squared Error:  0.0004666498600843958\n",
      "R2_score:  0.9995928723119871\n",
      "Mean_Absolute_Error:  0.017023332373686206\n"
     ]
    }
   ],
   "source": [
    "print('Training Score: ', LR.score(X_train, y_train))\n",
    "print('Testing score: ', LR.score(X_test, y_test))\n",
    "print('Mean Squared Error: ', mean_squared_error(y_test, y_pred))\n",
    "print('R2_score: ', r2_score(y_test, y_pred))\n",
    "print('Mean_Absolute_Error: ', mean_absolute_error(y_test, y_pred))"
   ]
  },
  {
   "cell_type": "code",
   "execution_count": 59,
   "metadata": {},
   "outputs": [
    {
     "name": "stdout",
     "output_type": "stream",
     "text": [
      "Training Score:  0.9973197856355912\n",
      "Testing score:  0.9947294173851592\n",
      "Mean Squared Error:  0.006041143140579259\n",
      "R2_score:  0.9947294173851592\n",
      "Mean_Absolute_Error:  0.05867787657956757\n"
     ]
    },
    {
     "name": "stderr",
     "output_type": "stream",
     "text": [
      "D:\\anconda\\lib\\site-packages\\sklearn\\svm\\base.py:193: FutureWarning: The default value of gamma will change from 'auto' to 'scale' in version 0.22 to account better for unscaled features. Set gamma explicitly to 'auto' or 'scale' to avoid this warning.\n",
      "  \"avoid this warning.\", FutureWarning)\n"
     ]
    }
   ],
   "source": [
    "svr = SVR(kernel='poly', degree=8)\n",
    "svr.fit(X_train, y_train)\n",
    "y_pred  =svr.predict(X_test)\n",
    "print('Training Score: ', svr.score(X_train, y_train))\n",
    "print('Testing score: ', svr.score(X_test, y_test))\n",
    "print('Mean Squared Error: ', mean_squared_error(y_test, y_pred))\n",
    "print('R2_score: ', r2_score(y_test, y_pred))\n",
    "print('Mean_Absolute_Error: ', mean_absolute_error(y_test, y_pred))"
   ]
  },
  {
   "cell_type": "code",
   "execution_count": 60,
   "metadata": {},
   "outputs": [
    {
     "name": "stdout",
     "output_type": "stream",
     "text": [
      "Training Score:  0.8233075368872238\n",
      "Testing score:  0.8168062575234116\n",
      "Mean Squared Error:  0.20997671446098898\n",
      "R2_score:  0.8168062575234116\n",
      "Mean_Absolute_Error:  0.36214582307236204\n"
     ]
    },
    {
     "name": "stderr",
     "output_type": "stream",
     "text": [
      "D:\\anconda\\lib\\site-packages\\sklearn\\svm\\base.py:193: FutureWarning: The default value of gamma will change from 'auto' to 'scale' in version 0.22 to account better for unscaled features. Set gamma explicitly to 'auto' or 'scale' to avoid this warning.\n",
      "  \"avoid this warning.\", FutureWarning)\n"
     ]
    }
   ],
   "source": [
    "svr = SVR(kernel='rbf', degree=8)\n",
    "svr.fit(X_train, y_train)\n",
    "y_pred  =svr.predict(X_test)\n",
    "print('Training Score: ', svr.score(X_train, y_train))\n",
    "print('Testing score: ', svr.score(X_test, y_test))\n",
    "print('Mean Squared Error: ', mean_squared_error(y_test, y_pred))\n",
    "print('R2_score: ', r2_score(y_test, y_pred))\n",
    "print('Mean_Absolute_Error: ', mean_absolute_error(y_test, y_pred))"
   ]
  },
  {
   "cell_type": "code",
   "execution_count": 61,
   "metadata": {},
   "outputs": [
    {
     "name": "stdout",
     "output_type": "stream",
     "text": [
      "Training Score:  -0.008255227205489213\n",
      "Testing score:  -0.0020327672628572824\n",
      "Mean Squared Error:  1.1485302140109759\n",
      "R2_score:  -0.0020327672628572824\n",
      "Mean_Absolute_Error:  0.9301534011563163\n"
     ]
    },
    {
     "name": "stderr",
     "output_type": "stream",
     "text": [
      "D:\\anconda\\lib\\site-packages\\sklearn\\svm\\base.py:193: FutureWarning: The default value of gamma will change from 'auto' to 'scale' in version 0.22 to account better for unscaled features. Set gamma explicitly to 'auto' or 'scale' to avoid this warning.\n",
      "  \"avoid this warning.\", FutureWarning)\n"
     ]
    }
   ],
   "source": [
    "svr = SVR(kernel='sigmoid', degree=8)\n",
    "svr.fit(X_train, y_train)\n",
    "y_pred  =svr.predict(X_test)\n",
    "print('Training Score: ', svr.score(X_train, y_train))\n",
    "print('Testing score: ', svr.score(X_test, y_test))\n",
    "print('Mean Squared Error: ', mean_squared_error(y_test, y_pred))\n",
    "print('R2_score: ', r2_score(y_test, y_pred))\n",
    "print('Mean_Absolute_Error: ', mean_absolute_error(y_test, y_pred))"
   ]
  },
  {
   "cell_type": "code",
   "execution_count": 62,
   "metadata": {},
   "outputs": [
    {
     "data": {
      "text/html": [
       "<div>\n",
       "<style scoped>\n",
       "    .dataframe tbody tr th:only-of-type {\n",
       "        vertical-align: middle;\n",
       "    }\n",
       "\n",
       "    .dataframe tbody tr th {\n",
       "        vertical-align: top;\n",
       "    }\n",
       "\n",
       "    .dataframe thead th {\n",
       "        text-align: right;\n",
       "    }\n",
       "</style>\n",
       "<table border=\"1\" class=\"dataframe\">\n",
       "  <thead>\n",
       "    <tr style=\"text-align: right;\">\n",
       "      <th></th>\n",
       "      <th>Actual</th>\n",
       "      <th>Predicted</th>\n",
       "    </tr>\n",
       "    <tr>\n",
       "      <th>Date_Time</th>\n",
       "      <th></th>\n",
       "      <th></th>\n",
       "    </tr>\n",
       "  </thead>\n",
       "  <tbody>\n",
       "    <tr>\n",
       "      <td>2009-03-31</td>\n",
       "      <td>5.148976</td>\n",
       "      <td>4.71701</td>\n",
       "    </tr>\n",
       "    <tr>\n",
       "      <td>2010-04-30</td>\n",
       "      <td>4.305192</td>\n",
       "      <td>4.71701</td>\n",
       "    </tr>\n",
       "    <tr>\n",
       "      <td>2009-02-28</td>\n",
       "      <td>5.198614</td>\n",
       "      <td>4.71701</td>\n",
       "    </tr>\n",
       "    <tr>\n",
       "      <td>2010-07-31</td>\n",
       "      <td>3.132494</td>\n",
       "      <td>4.71701</td>\n",
       "    </tr>\n",
       "    <tr>\n",
       "      <td>2008-12-31</td>\n",
       "      <td>5.298371</td>\n",
       "      <td>4.71701</td>\n",
       "    </tr>\n",
       "    <tr>\n",
       "      <td>2010-01-31</td>\n",
       "      <td>5.947544</td>\n",
       "      <td>4.71701</td>\n",
       "    </tr>\n",
       "    <tr>\n",
       "      <td>2007-12-31</td>\n",
       "      <td>6.821634</td>\n",
       "      <td>4.71701</td>\n",
       "    </tr>\n",
       "    <tr>\n",
       "      <td>2008-07-31</td>\n",
       "      <td>3.466532</td>\n",
       "      <td>4.71701</td>\n",
       "    </tr>\n",
       "    <tr>\n",
       "      <td>2007-04-30</td>\n",
       "      <td>3.825676</td>\n",
       "      <td>4.71701</td>\n",
       "    </tr>\n",
       "    <tr>\n",
       "      <td>2009-01-31</td>\n",
       "      <td>5.869724</td>\n",
       "      <td>4.71701</td>\n",
       "    </tr>\n",
       "    <tr>\n",
       "      <td>2007-08-31</td>\n",
       "      <td>3.312297</td>\n",
       "      <td>4.71701</td>\n",
       "    </tr>\n",
       "    <tr>\n",
       "      <td>2007-03-31</td>\n",
       "      <td>5.572979</td>\n",
       "      <td>4.71701</td>\n",
       "    </tr>\n",
       "    <tr>\n",
       "      <td>2007-06-30</td>\n",
       "      <td>3.603550</td>\n",
       "      <td>4.71701</td>\n",
       "    </tr>\n",
       "    <tr>\n",
       "      <td>2010-03-31</td>\n",
       "      <td>4.730129</td>\n",
       "      <td>4.71701</td>\n",
       "    </tr>\n",
       "    <tr>\n",
       "      <td>2009-09-30</td>\n",
       "      <td>4.213913</td>\n",
       "      <td>4.71701</td>\n",
       "    </tr>\n",
       "    <tr>\n",
       "      <td>2008-01-31</td>\n",
       "      <td>6.181716</td>\n",
       "      <td>4.71701</td>\n",
       "    </tr>\n",
       "    <tr>\n",
       "      <td>2008-05-31</td>\n",
       "      <td>4.380416</td>\n",
       "      <td>4.71701</td>\n",
       "    </tr>\n",
       "  </tbody>\n",
       "</table>\n",
       "</div>"
      ],
      "text/plain": [
       "              Actual  Predicted\n",
       "Date_Time                      \n",
       "2009-03-31  5.148976    4.71701\n",
       "2010-04-30  4.305192    4.71701\n",
       "2009-02-28  5.198614    4.71701\n",
       "2010-07-31  3.132494    4.71701\n",
       "2008-12-31  5.298371    4.71701\n",
       "2010-01-31  5.947544    4.71701\n",
       "2007-12-31  6.821634    4.71701\n",
       "2008-07-31  3.466532    4.71701\n",
       "2007-04-30  3.825676    4.71701\n",
       "2009-01-31  5.869724    4.71701\n",
       "2007-08-31  3.312297    4.71701\n",
       "2007-03-31  5.572979    4.71701\n",
       "2007-06-30  3.603550    4.71701\n",
       "2010-03-31  4.730129    4.71701\n",
       "2009-09-30  4.213913    4.71701\n",
       "2008-01-31  6.181716    4.71701\n",
       "2008-05-31  4.380416    4.71701"
      ]
     },
     "execution_count": 62,
     "metadata": {},
     "output_type": "execute_result"
    }
   ],
   "source": [
    "results=pd.DataFrame({'Actual':y_test, 'Predicted':y_pred})  \n",
    "results"
   ]
  },
  {
   "cell_type": "code",
   "execution_count": 63,
   "metadata": {},
   "outputs": [
    {
     "data": {
      "text/plain": [
       "1.0716950191220336"
      ]
     },
     "execution_count": 63,
     "metadata": {},
     "output_type": "execute_result"
    }
   ],
   "source": [
    "# RMSE by Pandas\n",
    "((results.Actual - results.Predicted) ** 2).mean() ** .5"
   ]
  },
  {
   "cell_type": "code",
   "execution_count": 64,
   "metadata": {},
   "outputs": [
    {
     "data": {
      "text/plain": [
       "1.0716950191220336"
      ]
     },
     "execution_count": 64,
     "metadata": {},
     "output_type": "execute_result"
    }
   ],
   "source": [
    "# RMSE by Numpy\n",
    "(np.diff(results.values) ** 2).mean() ** .5"
   ]
  },
  {
   "cell_type": "markdown",
   "metadata": {},
   "source": [
    "To predict if the Global Intensity is greater than 15"
   ]
  },
  {
   "cell_type": "code",
   "execution_count": 65,
   "metadata": {},
   "outputs": [
    {
     "data": {
      "text/plain": [
       "Global_active_power      0.167812\n",
       "Global_reactive_power    0.000469\n",
       "Voltage                  2.251579\n",
       "Global_intensity         2.533457\n",
       "Sub_metering_1           0.000000\n",
       "Sub_metering_2           0.000000\n",
       "Sub_metering_3           6.588652\n",
       "dtype: float64"
      ]
     },
     "execution_count": 65,
     "metadata": {},
     "output_type": "execute_result"
    }
   ],
   "source": [
    "hpc_res = hpc.resample('M').median()\n",
    "hpc_res.var()"
   ]
  },
  {
   "cell_type": "code",
   "execution_count": 66,
   "metadata": {},
   "outputs": [
    {
     "data": {
      "text/html": [
       "<div>\n",
       "<style scoped>\n",
       "    .dataframe tbody tr th:only-of-type {\n",
       "        vertical-align: middle;\n",
       "    }\n",
       "\n",
       "    .dataframe tbody tr th {\n",
       "        vertical-align: top;\n",
       "    }\n",
       "\n",
       "    .dataframe thead th {\n",
       "        text-align: right;\n",
       "    }\n",
       "</style>\n",
       "<table border=\"1\" class=\"dataframe\">\n",
       "  <thead>\n",
       "    <tr style=\"text-align: right;\">\n",
       "      <th></th>\n",
       "      <th>Global_active_power</th>\n",
       "      <th>Global_reactive_power</th>\n",
       "      <th>Voltage</th>\n",
       "      <th>Global_intensity</th>\n",
       "      <th>Sub_metering_1</th>\n",
       "      <th>Sub_metering_2</th>\n",
       "      <th>Sub_metering_3</th>\n",
       "    </tr>\n",
       "    <tr>\n",
       "      <th>Date_Time</th>\n",
       "      <th></th>\n",
       "      <th></th>\n",
       "      <th></th>\n",
       "      <th></th>\n",
       "      <th></th>\n",
       "      <th></th>\n",
       "      <th></th>\n",
       "    </tr>\n",
       "  </thead>\n",
       "  <tbody>\n",
       "    <tr>\n",
       "      <td>2006-12-31</td>\n",
       "      <td>1.708</td>\n",
       "      <td>0.114</td>\n",
       "      <td>241.69</td>\n",
       "      <td>7.2</td>\n",
       "      <td>0.0</td>\n",
       "      <td>0.0</td>\n",
       "      <td>0.0</td>\n",
       "    </tr>\n",
       "    <tr>\n",
       "      <td>2007-01-31</td>\n",
       "      <td>1.374</td>\n",
       "      <td>0.126</td>\n",
       "      <td>241.24</td>\n",
       "      <td>5.6</td>\n",
       "      <td>0.0</td>\n",
       "      <td>0.0</td>\n",
       "      <td>0.0</td>\n",
       "    </tr>\n",
       "    <tr>\n",
       "      <td>2007-02-28</td>\n",
       "      <td>1.266</td>\n",
       "      <td>0.104</td>\n",
       "      <td>240.74</td>\n",
       "      <td>5.2</td>\n",
       "      <td>0.0</td>\n",
       "      <td>0.0</td>\n",
       "      <td>0.0</td>\n",
       "    </tr>\n",
       "    <tr>\n",
       "      <td>2007-03-31</td>\n",
       "      <td>0.866</td>\n",
       "      <td>0.096</td>\n",
       "      <td>240.78</td>\n",
       "      <td>3.6</td>\n",
       "      <td>0.0</td>\n",
       "      <td>0.0</td>\n",
       "      <td>0.0</td>\n",
       "    </tr>\n",
       "    <tr>\n",
       "      <td>2007-04-30</td>\n",
       "      <td>0.384</td>\n",
       "      <td>0.104</td>\n",
       "      <td>239.95</td>\n",
       "      <td>1.8</td>\n",
       "      <td>0.0</td>\n",
       "      <td>0.0</td>\n",
       "      <td>0.0</td>\n",
       "    </tr>\n",
       "  </tbody>\n",
       "</table>\n",
       "</div>"
      ],
      "text/plain": [
       "            Global_active_power  Global_reactive_power  Voltage  \\\n",
       "Date_Time                                                         \n",
       "2006-12-31                1.708                  0.114   241.69   \n",
       "2007-01-31                1.374                  0.126   241.24   \n",
       "2007-02-28                1.266                  0.104   240.74   \n",
       "2007-03-31                0.866                  0.096   240.78   \n",
       "2007-04-30                0.384                  0.104   239.95   \n",
       "\n",
       "            Global_intensity  Sub_metering_1  Sub_metering_2  Sub_metering_3  \n",
       "Date_Time                                                                     \n",
       "2006-12-31               7.2             0.0             0.0             0.0  \n",
       "2007-01-31               5.6             0.0             0.0             0.0  \n",
       "2007-02-28               5.2             0.0             0.0             0.0  \n",
       "2007-03-31               3.6             0.0             0.0             0.0  \n",
       "2007-04-30               1.8             0.0             0.0             0.0  "
      ]
     },
     "execution_count": 66,
     "metadata": {},
     "output_type": "execute_result"
    }
   ],
   "source": [
    "hpc_res.head()"
   ]
  },
  {
   "cell_type": "code",
   "execution_count": 67,
   "metadata": {},
   "outputs": [],
   "source": [
    "hpc_res[\"Global_intensity_test\"] = [1 if x<=15 else 0 for x in hpc_res[\"Global_intensity\"]]"
   ]
  },
  {
   "cell_type": "code",
   "execution_count": 68,
   "metadata": {},
   "outputs": [
    {
     "data": {
      "text/plain": [
       "Global_active_power      48\n",
       "Global_reactive_power    48\n",
       "Voltage                  48\n",
       "Global_intensity         48\n",
       "Sub_metering_1           48\n",
       "Sub_metering_2           48\n",
       "Sub_metering_3           48\n",
       "Global_intensity_test    48\n",
       "dtype: int64"
      ]
     },
     "execution_count": 68,
     "metadata": {},
     "output_type": "execute_result"
    }
   ],
   "source": [
    "hpc_res.count()"
   ]
  },
  {
   "cell_type": "code",
   "execution_count": 69,
   "metadata": {},
   "outputs": [
    {
     "data": {
      "text/html": [
       "<div>\n",
       "<style scoped>\n",
       "    .dataframe tbody tr th:only-of-type {\n",
       "        vertical-align: middle;\n",
       "    }\n",
       "\n",
       "    .dataframe tbody tr th {\n",
       "        vertical-align: top;\n",
       "    }\n",
       "\n",
       "    .dataframe thead th {\n",
       "        text-align: right;\n",
       "    }\n",
       "</style>\n",
       "<table border=\"1\" class=\"dataframe\">\n",
       "  <thead>\n",
       "    <tr style=\"text-align: right;\">\n",
       "      <th></th>\n",
       "      <th>Global_active_power</th>\n",
       "      <th>Global_reactive_power</th>\n",
       "      <th>Voltage</th>\n",
       "      <th>Global_intensity</th>\n",
       "      <th>Sub_metering_1</th>\n",
       "      <th>Sub_metering_2</th>\n",
       "      <th>Sub_metering_3</th>\n",
       "      <th>Global_intensity_test</th>\n",
       "    </tr>\n",
       "    <tr>\n",
       "      <th>Date_Time</th>\n",
       "      <th></th>\n",
       "      <th></th>\n",
       "      <th></th>\n",
       "      <th></th>\n",
       "      <th></th>\n",
       "      <th></th>\n",
       "      <th></th>\n",
       "      <th></th>\n",
       "    </tr>\n",
       "  </thead>\n",
       "  <tbody>\n",
       "    <tr>\n",
       "      <td>2006-12-31</td>\n",
       "      <td>1.708</td>\n",
       "      <td>0.114</td>\n",
       "      <td>241.69</td>\n",
       "      <td>7.2</td>\n",
       "      <td>0.0</td>\n",
       "      <td>0.0</td>\n",
       "      <td>0.0</td>\n",
       "      <td>1</td>\n",
       "    </tr>\n",
       "    <tr>\n",
       "      <td>2007-01-31</td>\n",
       "      <td>1.374</td>\n",
       "      <td>0.126</td>\n",
       "      <td>241.24</td>\n",
       "      <td>5.6</td>\n",
       "      <td>0.0</td>\n",
       "      <td>0.0</td>\n",
       "      <td>0.0</td>\n",
       "      <td>1</td>\n",
       "    </tr>\n",
       "    <tr>\n",
       "      <td>2007-02-28</td>\n",
       "      <td>1.266</td>\n",
       "      <td>0.104</td>\n",
       "      <td>240.74</td>\n",
       "      <td>5.2</td>\n",
       "      <td>0.0</td>\n",
       "      <td>0.0</td>\n",
       "      <td>0.0</td>\n",
       "      <td>1</td>\n",
       "    </tr>\n",
       "    <tr>\n",
       "      <td>2007-03-31</td>\n",
       "      <td>0.866</td>\n",
       "      <td>0.096</td>\n",
       "      <td>240.78</td>\n",
       "      <td>3.6</td>\n",
       "      <td>0.0</td>\n",
       "      <td>0.0</td>\n",
       "      <td>0.0</td>\n",
       "      <td>1</td>\n",
       "    </tr>\n",
       "    <tr>\n",
       "      <td>2007-04-30</td>\n",
       "      <td>0.384</td>\n",
       "      <td>0.104</td>\n",
       "      <td>239.95</td>\n",
       "      <td>1.8</td>\n",
       "      <td>0.0</td>\n",
       "      <td>0.0</td>\n",
       "      <td>0.0</td>\n",
       "      <td>1</td>\n",
       "    </tr>\n",
       "  </tbody>\n",
       "</table>\n",
       "</div>"
      ],
      "text/plain": [
       "            Global_active_power  Global_reactive_power  Voltage  \\\n",
       "Date_Time                                                         \n",
       "2006-12-31                1.708                  0.114   241.69   \n",
       "2007-01-31                1.374                  0.126   241.24   \n",
       "2007-02-28                1.266                  0.104   240.74   \n",
       "2007-03-31                0.866                  0.096   240.78   \n",
       "2007-04-30                0.384                  0.104   239.95   \n",
       "\n",
       "            Global_intensity  Sub_metering_1  Sub_metering_2  Sub_metering_3  \\\n",
       "Date_Time                                                                      \n",
       "2006-12-31               7.2             0.0             0.0             0.0   \n",
       "2007-01-31               5.6             0.0             0.0             0.0   \n",
       "2007-02-28               5.2             0.0             0.0             0.0   \n",
       "2007-03-31               3.6             0.0             0.0             0.0   \n",
       "2007-04-30               1.8             0.0             0.0             0.0   \n",
       "\n",
       "            Global_intensity_test  \n",
       "Date_Time                          \n",
       "2006-12-31                      1  \n",
       "2007-01-31                      1  \n",
       "2007-02-28                      1  \n",
       "2007-03-31                      1  \n",
       "2007-04-30                      1  "
      ]
     },
     "execution_count": 69,
     "metadata": {},
     "output_type": "execute_result"
    }
   ],
   "source": [
    "hpc_res.head()"
   ]
  },
  {
   "cell_type": "code",
   "execution_count": 70,
   "metadata": {},
   "outputs": [],
   "source": [
    "X = hpc_res.drop('Global_intensity_test', axis = 1)\n",
    "y = hpc_res['Global_intensity_test']"
   ]
  },
  {
   "cell_type": "code",
   "execution_count": 71,
   "metadata": {},
   "outputs": [],
   "source": [
    "X_train, X_test, y_train, y_test = train_test_split(X, y, test_size=0.35,  random_state=42)"
   ]
  },
  {
   "cell_type": "code",
   "execution_count": 72,
   "metadata": {},
   "outputs": [
    {
     "name": "stdout",
     "output_type": "stream",
     "text": [
      "Training Score:  1.0\n",
      "Testing score:  1.0\n",
      "Mean Squared Error:  0.0\n",
      "R2_score:  1.0\n",
      "Mean_Absolute_Error:  0.0\n"
     ]
    }
   ],
   "source": [
    "knn = KNeighborsRegressor(n_neighbors=3)\n",
    "knn.fit(X_train, y_train)\n",
    "y_pred = knn.predict(X_test)\n",
    "print('Training Score: ', knn.score(X_train, y_train))\n",
    "print('Testing score: ', knn.score(X_test, y_test))\n",
    "print('Mean Squared Error: ', mean_squared_error(y_test, y_pred))\n",
    "print('R2_score: ', r2_score(y_test, y_pred))\n",
    "print('Mean_Absolute_Error: ', mean_absolute_error(y_test, y_pred))\n"
   ]
  },
  {
   "cell_type": "code",
   "execution_count": 73,
   "metadata": {},
   "outputs": [
    {
     "data": {
      "text/plain": [
       "100.0"
      ]
     },
     "execution_count": 73,
     "metadata": {},
     "output_type": "execute_result"
    }
   ],
   "source": [
    "accuracy = 100 * (sum(hpc_res[\"Global_intensity_test\"])/hpc_res.shape[0])\n",
    "accuracy"
   ]
  },
  {
   "cell_type": "code",
   "execution_count": 74,
   "metadata": {},
   "outputs": [],
   "source": [
    "from sklearn.metrics import classification_report,confusion_matrix"
   ]
  },
  {
   "cell_type": "code",
   "execution_count": 76,
   "metadata": {},
   "outputs": [
    {
     "name": "stdout",
     "output_type": "stream",
     "text": [
      "[[17]]\n"
     ]
    }
   ],
   "source": [
    "print(confusion_matrix(y_test,y_pred))"
   ]
  },
  {
   "cell_type": "code",
   "execution_count": 77,
   "metadata": {},
   "outputs": [
    {
     "name": "stdout",
     "output_type": "stream",
     "text": [
      "              precision    recall  f1-score   support\n",
      "\n",
      "           1       1.00      1.00      1.00        17\n",
      "\n",
      "    accuracy                           1.00        17\n",
      "   macro avg       1.00      1.00      1.00        17\n",
      "weighted avg       1.00      1.00      1.00        17\n",
      "\n"
     ]
    }
   ],
   "source": [
    "print(classification_report(y_test,y_pred))"
   ]
  },
  {
   "cell_type": "code",
   "execution_count": null,
   "metadata": {},
   "outputs": [],
   "source": []
  }
 ],
 "metadata": {
  "kernelspec": {
   "display_name": "Python 3",
   "language": "python",
   "name": "python3"
  },
  "language_info": {
   "codemirror_mode": {
    "name": "ipython",
    "version": 3
   },
   "file_extension": ".py",
   "mimetype": "text/x-python",
   "name": "python",
   "nbconvert_exporter": "python",
   "pygments_lexer": "ipython3",
   "version": "3.7.4"
  }
 },
 "nbformat": 4,
 "nbformat_minor": 2
}
