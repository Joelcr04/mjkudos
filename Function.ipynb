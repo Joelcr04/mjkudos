{
 "cells": [
  {
   "cell_type": "code",
   "execution_count": 8,
   "metadata": {},
   "outputs": [
    {
     "name": "stdout",
     "output_type": "stream",
     "text": [
      "Hello,Tom.Good Moring!\n"
     ]
    }
   ],
   "source": [
    "def greet(name):\n",
    "    \"\"\" This Function greets to \n",
    "    the person passed in as paremter\"\"\"\n",
    "    \n",
    "    print(\"Hello,\"+name+\".Good Moring!\")\n",
    "greet(\"Tom\")"
   ]
  },
  {
   "cell_type": "code",
   "execution_count": 9,
   "metadata": {},
   "outputs": [
    {
     "name": "stdout",
     "output_type": "stream",
     "text": [
      " This Function greets to \n",
      "    the person passed in as paremter\n"
     ]
    }
   ],
   "source": [
    "print(greet.__doc__)"
   ]
  },
  {
   "cell_type": "code",
   "execution_count": 15,
   "metadata": {},
   "outputs": [
    {
     "name": "stdout",
     "output_type": "stream",
     "text": [
      "value inside function: 10\n",
      "value outside function: 20\n"
     ]
    }
   ],
   "source": [
    "def mf():\n",
    "    global x\n",
    "    x=10\n",
    "    print(\"value inside function:\",x)\n",
    "#x=20\n",
    "mf()\n",
    "\n",
    "x=20\n",
    "print(\"value outside function:\",x)"
   ]
  },
  {
   "cell_type": "code",
   "execution_count": null,
   "metadata": {},
   "outputs": [],
   "source": []
  }
 ],
 "metadata": {
  "kernelspec": {
   "display_name": "Python 3",
   "language": "python",
   "name": "python3"
  },
  "language_info": {
   "codemirror_mode": {
    "name": "ipython",
    "version": 3
   },
   "file_extension": ".py",
   "mimetype": "text/x-python",
   "name": "python",
   "nbconvert_exporter": "python",
   "pygments_lexer": "ipython3",
   "version": "3.7.4"
  }
 },
 "nbformat": 4,
 "nbformat_minor": 2
}
