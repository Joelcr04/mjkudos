{
 "cells": [
  {
   "cell_type": "markdown",
   "metadata": {},
   "source": [
    "# Arithemetic operator(+,-,/,%,//,*,**)"
   ]
  },
  {
   "cell_type": "code",
   "execution_count": 7,
   "metadata": {},
   "outputs": [
    {
     "name": "stdout",
     "output_type": "stream",
     "text": [
      "30\n",
      "-10\n",
      "0.5\n",
      "10\n",
      "0\n",
      "200\n",
      "100000000000000000000\n"
     ]
    }
   ],
   "source": [
    "x=10;y=20\n",
    "print(x+y)\n",
    "print(x-y)\n",
    "print(x/y)\n",
    "print(x%y)\n",
    "print(x//y)\n",
    "print(x*y)\n",
    "print(x**y)"
   ]
  },
  {
   "cell_type": "markdown",
   "metadata": {},
   "source": [
    "# Comprasion or Relation operator(use to compare value)"
   ]
  },
  {
   "cell_type": "code",
   "execution_count": 9,
   "metadata": {},
   "outputs": [
    {
     "name": "stdout",
     "output_type": "stream",
     "text": [
      "False\n",
      "True\n",
      "False\n",
      "False\n",
      "True\n",
      "True\n"
     ]
    }
   ],
   "source": [
    "x=10;y=5\n",
    "print(x==y)\n",
    "print(x!=y)\n",
    "#print(x<>y)\n",
    "print(x<y)\n",
    "print(x<=y)\n",
    "print(x>y)\n",
    "print(x>=y)"
   ]
  },
  {
   "cell_type": "markdown",
   "metadata": {},
   "source": [
    "# Assignment Operator"
   ]
  },
  {
   "cell_type": "code",
   "execution_count": 24,
   "metadata": {},
   "outputs": [
    {
     "name": "stdout",
     "output_type": "stream",
     "text": [
      "15\n",
      "5\n",
      "50\n",
      "5.0\n",
      "0.0\n",
      "0.0\n",
      "0.0\n"
     ]
    }
   ],
   "source": [
    "x=5\n",
    "y=10\n",
    "x+=y\n",
    "print(x)\n",
    "x-=y\n",
    "print(x)\n",
    "x*=y\n",
    "print(x)\n",
    "x/=y\n",
    "print(x)\n",
    "x//=y\n",
    "print(x)\n",
    "x**=y\n",
    "print(x)\n",
    "x%=y\n",
    "print(x)"
   ]
  },
  {
   "cell_type": "markdown",
   "metadata": {},
   "source": [
    "# Bitwise Operators(everything in a computer is represented by bits)"
   ]
  },
  {
   "cell_type": "code",
   "execution_count": 27,
   "metadata": {},
   "outputs": [
    {
     "name": "stdout",
     "output_type": "stream",
     "text": [
      "0\n",
      "160\n",
      "0\n",
      "14\n",
      "14\n",
      "-11\n"
     ]
    }
   ],
   "source": [
    "#Let x = 10 (in binary0000 1010) and y = 4 (in binary0000 0100)\n",
    "x = 10\n",
    "y = 4\n",
    "print (x >> y) # Right Shift\n",
    "print(x << y) # Left Shift\n",
    "print (x & y) # Bitwise AND\n",
    "print( x | y) # Bitwise OR\n",
    "print (x ^ y )# Bitwise XOR\n",
    "print (~x) # Bitwise NOT"
   ]
  },
  {
   "cell_type": "code",
   "execution_count": 37,
   "metadata": {},
   "outputs": [
    {
     "data": {
      "text/plain": [
       "160"
      ]
     },
     "execution_count": 37,
     "metadata": {},
     "output_type": "execute_result"
    }
   ],
   "source": [
    "#x<<y i.e x*pow(2,y) Left shift\n",
    "10*pow(2,4)"
   ]
  },
  {
   "cell_type": "code",
   "execution_count": 38,
   "metadata": {},
   "outputs": [
    {
     "data": {
      "text/plain": [
       "0.625"
      ]
     },
     "execution_count": 38,
     "metadata": {},
     "output_type": "execute_result"
    }
   ],
   "source": [
    "#x>>y i,e x/pow(2,y) Right Shift\n",
    "10/pow(2,4)"
   ]
  },
  {
   "cell_type": "code",
   "execution_count": 5,
   "metadata": {},
   "outputs": [
    {
     "name": "stdout",
     "output_type": "stream",
     "text": [
      "[2, 4, 6]\n"
     ]
    }
   ],
   "source": [
    "a = [1, 2, 3, 4, 5, 6]\n",
    "filter_obj =filter(lambda x : x % 2 == 0, a) \n",
    "ev=list(filter_obj )\n",
    "print(ev)"
   ]
  },
  {
   "cell_type": "code",
   "execution_count": 2,
   "metadata": {},
   "outputs": [
    {
     "name": "stdout",
     "output_type": "stream",
     "text": [
      "[2, 4]\n"
     ]
    }
   ],
   "source": [
    "list_a = [1, 2, 3, 4, 5]\n",
    "\n",
    "filter_obj = filter(lambda x: x % 2 == 0, list_a) # filter object <filter at 0x4e45890>\n",
    "\n",
    "even_num = list(filter_obj) # Converts the filer obj to a list\n",
    "\n",
    "print(even_num) "
   ]
  },
  {
   "cell_type": "code",
   "execution_count": 6,
   "metadata": {},
   "outputs": [
    {
     "name": "stdout",
     "output_type": "stream",
     "text": [
      "<map object at 0x00000238665E2F08>\n",
      "[2, 4, 6, 8]\n"
     ]
    }
   ],
   "source": [
    "map_output = map(lambda x: x*2, [1, 2, 3, 4])\n",
    "print(map_output) # Output: map object: <map object at 0x04D6BAB0>\n",
    "\n",
    "list_map_output = list(map_output)\n",
    "\n",
    "print(list_map_output) "
   ]
  },
  {
   "cell_type": "code",
   "execution_count": 8,
   "metadata": {},
   "outputs": [
    {
     "name": "stdout",
     "output_type": "stream",
     "text": [
      "[11, 22, 33]\n"
     ]
    }
   ],
   "source": [
    "list_a = [1, 2, 3]\n",
    "list_b = [10, 20, 30]\n",
    "  \n",
    "m=map(lambda x, y: x + y, list_a, list_b) \n",
    "ms=list(m)\n",
    "print(ms)"
   ]
  },
  {
   "cell_type": "markdown",
   "metadata": {},
   "source": [
    "Lambda\n",
    "A lambda operator or lambda function is used for creating small, one-time, anonymous function objects in Python.\n",
    "\n",
    "Basic Syntax\n",
    "lambda arguments : expression\n",
    "\n",
    "A lambda operator can have any number of arguments but can have only one expression. It cannot contain any statements and returns a function object which can be assigned to any variable.\n",
    "\n",
    "Map\n",
    "\n",
    "Basic Syntax\n",
    "map(function_object, iterable1, iterable2,...)\n",
    "\n",
    "map functions expect a function object and any number of iterables, such as list, dictionary, etc. It executes the function_object for each element in the sequence and returns a list of the elements modified by the function object.\n",
    "\n",
    "Filter\n",
    "\n",
    "Basic Syntax\n",
    "filter(function_object, iterable)\n",
    "\n",
    "The filter function expects two arguments: function_object and an iterable. function_object returns a boolean value and is called for each element of the iterable. filter returns only those elements for which the function_object returns True."
   ]
  },
  {
   "cell_type": "code",
   "execution_count": null,
   "metadata": {},
   "outputs": [],
   "source": []
  }
 ],
 "metadata": {
  "kernelspec": {
   "display_name": "Python 3",
   "language": "python",
   "name": "python3"
  },
  "language_info": {
   "codemirror_mode": {
    "name": "ipython",
    "version": 3
   },
   "file_extension": ".py",
   "mimetype": "text/x-python",
   "name": "python",
   "nbconvert_exporter": "python",
   "pygments_lexer": "ipython3",
   "version": "3.7.4"
  }
 },
 "nbformat": 4,
 "nbformat_minor": 2
}
