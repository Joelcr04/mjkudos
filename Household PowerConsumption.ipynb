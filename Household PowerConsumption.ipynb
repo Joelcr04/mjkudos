{
 "cells": [
  {
   "cell_type": "markdown",
   "metadata": {},
   "source": [
    "# Importing and Reading Data"
   ]
  },
  {
   "cell_type": "code",
   "execution_count": 97,
   "metadata": {},
   "outputs": [],
   "source": [
    "import numpy as np \n",
    "import pandas as pd\n",
    "import seaborn as sns\n",
    "import matplotlib.pyplot as plt\n",
    "import os"
   ]
  },
  {
   "cell_type": "code",
   "execution_count": 98,
   "metadata": {},
   "outputs": [],
   "source": [
    "from sklearn.model_selection import train_test_split\n",
    "from sklearn.preprocessing import StandardScaler\n",
    "from sklearn.svm import SVR\n",
    "from sklearn.neighbors import KNeighborsRegressor\n",
    "from sklearn.linear_model import LinearRegression"
   ]
  },
  {
   "cell_type": "code",
   "execution_count": 99,
   "metadata": {},
   "outputs": [
    {
     "data": {
      "text/plain": [
       "'D:\\\\ML project'"
      ]
     },
     "execution_count": 99,
     "metadata": {},
     "output_type": "execute_result"
    }
   ],
   "source": [
    "os.getcwd()"
   ]
  },
  {
   "cell_type": "code",
   "execution_count": 100,
   "metadata": {},
   "outputs": [
    {
     "data": {
      "text/plain": [
       "'D:\\\\ML project'"
      ]
     },
     "execution_count": 100,
     "metadata": {},
     "output_type": "execute_result"
    }
   ],
   "source": [
    "os.chdir('D:\\ML project')\n",
    "os.getcwd()"
   ]
  },
  {
   "cell_type": "code",
   "execution_count": 101,
   "metadata": {},
   "outputs": [],
   "source": [
    "hpc=pd.read_csv(\"hpc_breakdowns.csv\")"
   ]
  },
  {
   "cell_type": "code",
   "execution_count": 102,
   "metadata": {},
   "outputs": [
    {
     "data": {
      "text/html": [
       "<div>\n",
       "<style scoped>\n",
       "    .dataframe tbody tr th:only-of-type {\n",
       "        vertical-align: middle;\n",
       "    }\n",
       "\n",
       "    .dataframe tbody tr th {\n",
       "        vertical-align: top;\n",
       "    }\n",
       "\n",
       "    .dataframe thead th {\n",
       "        text-align: right;\n",
       "    }\n",
       "</style>\n",
       "<table border=\"1\" class=\"dataframe\">\n",
       "  <thead>\n",
       "    <tr style=\"text-align: right;\">\n",
       "      <th></th>\n",
       "      <th>Unnamed: 0</th>\n",
       "      <th>Date</th>\n",
       "      <th>Time</th>\n",
       "      <th>Global_active_power</th>\n",
       "      <th>Global_reactive_power</th>\n",
       "      <th>Voltage</th>\n",
       "      <th>Global_intensity</th>\n",
       "      <th>Sub_metering_1</th>\n",
       "      <th>Sub_metering_2</th>\n",
       "      <th>Sub_metering_3</th>\n",
       "    </tr>\n",
       "  </thead>\n",
       "  <tbody>\n",
       "    <tr>\n",
       "      <td>0</td>\n",
       "      <td>0</td>\n",
       "      <td>16/12/2006</td>\n",
       "      <td>17:24:00</td>\n",
       "      <td>4.216</td>\n",
       "      <td>0.418</td>\n",
       "      <td>234.84</td>\n",
       "      <td>18.4</td>\n",
       "      <td>0.0</td>\n",
       "      <td>1.0</td>\n",
       "      <td>17.0</td>\n",
       "    </tr>\n",
       "    <tr>\n",
       "      <td>1</td>\n",
       "      <td>1</td>\n",
       "      <td>16/12/2006</td>\n",
       "      <td>17:25:00</td>\n",
       "      <td>5.360</td>\n",
       "      <td>0.436</td>\n",
       "      <td>233.63</td>\n",
       "      <td>23.0</td>\n",
       "      <td>0.0</td>\n",
       "      <td>1.0</td>\n",
       "      <td>16.0</td>\n",
       "    </tr>\n",
       "    <tr>\n",
       "      <td>2</td>\n",
       "      <td>2</td>\n",
       "      <td>16/12/2006</td>\n",
       "      <td>17:26:00</td>\n",
       "      <td>5.374</td>\n",
       "      <td>0.498</td>\n",
       "      <td>233.29</td>\n",
       "      <td>23.0</td>\n",
       "      <td>0.0</td>\n",
       "      <td>2.0</td>\n",
       "      <td>17.0</td>\n",
       "    </tr>\n",
       "    <tr>\n",
       "      <td>3</td>\n",
       "      <td>3</td>\n",
       "      <td>16/12/2006</td>\n",
       "      <td>17:27:00</td>\n",
       "      <td>5.388</td>\n",
       "      <td>0.502</td>\n",
       "      <td>233.74</td>\n",
       "      <td>23.0</td>\n",
       "      <td>0.0</td>\n",
       "      <td>1.0</td>\n",
       "      <td>17.0</td>\n",
       "    </tr>\n",
       "    <tr>\n",
       "      <td>4</td>\n",
       "      <td>4</td>\n",
       "      <td>16/12/2006</td>\n",
       "      <td>17:28:00</td>\n",
       "      <td>3.666</td>\n",
       "      <td>0.528</td>\n",
       "      <td>235.68</td>\n",
       "      <td>15.8</td>\n",
       "      <td>0.0</td>\n",
       "      <td>1.0</td>\n",
       "      <td>17.0</td>\n",
       "    </tr>\n",
       "    <tr>\n",
       "      <td>...</td>\n",
       "      <td>...</td>\n",
       "      <td>...</td>\n",
       "      <td>...</td>\n",
       "      <td>...</td>\n",
       "      <td>...</td>\n",
       "      <td>...</td>\n",
       "      <td>...</td>\n",
       "      <td>...</td>\n",
       "      <td>...</td>\n",
       "      <td>...</td>\n",
       "    </tr>\n",
       "    <tr>\n",
       "      <td>2049275</td>\n",
       "      <td>2075254</td>\n",
       "      <td>26/11/2010</td>\n",
       "      <td>20:58:00</td>\n",
       "      <td>0.946</td>\n",
       "      <td>0.000</td>\n",
       "      <td>240.43</td>\n",
       "      <td>4.0</td>\n",
       "      <td>0.0</td>\n",
       "      <td>0.0</td>\n",
       "      <td>0.0</td>\n",
       "    </tr>\n",
       "    <tr>\n",
       "      <td>2049276</td>\n",
       "      <td>2075255</td>\n",
       "      <td>26/11/2010</td>\n",
       "      <td>20:59:00</td>\n",
       "      <td>0.944</td>\n",
       "      <td>0.000</td>\n",
       "      <td>240.00</td>\n",
       "      <td>4.0</td>\n",
       "      <td>0.0</td>\n",
       "      <td>0.0</td>\n",
       "      <td>0.0</td>\n",
       "    </tr>\n",
       "    <tr>\n",
       "      <td>2049277</td>\n",
       "      <td>2075256</td>\n",
       "      <td>26/11/2010</td>\n",
       "      <td>21:00:00</td>\n",
       "      <td>0.938</td>\n",
       "      <td>0.000</td>\n",
       "      <td>239.82</td>\n",
       "      <td>3.8</td>\n",
       "      <td>0.0</td>\n",
       "      <td>0.0</td>\n",
       "      <td>0.0</td>\n",
       "    </tr>\n",
       "    <tr>\n",
       "      <td>2049278</td>\n",
       "      <td>2075257</td>\n",
       "      <td>26/11/2010</td>\n",
       "      <td>21:01:00</td>\n",
       "      <td>0.934</td>\n",
       "      <td>0.000</td>\n",
       "      <td>239.70</td>\n",
       "      <td>3.8</td>\n",
       "      <td>0.0</td>\n",
       "      <td>0.0</td>\n",
       "      <td>0.0</td>\n",
       "    </tr>\n",
       "    <tr>\n",
       "      <td>2049279</td>\n",
       "      <td>2075258</td>\n",
       "      <td>26/11/2010</td>\n",
       "      <td>21:02:00</td>\n",
       "      <td>0.932</td>\n",
       "      <td>0.000</td>\n",
       "      <td>239.55</td>\n",
       "      <td>3.8</td>\n",
       "      <td>0.0</td>\n",
       "      <td>0.0</td>\n",
       "      <td>0.0</td>\n",
       "    </tr>\n",
       "  </tbody>\n",
       "</table>\n",
       "<p>2049280 rows × 10 columns</p>\n",
       "</div>"
      ],
      "text/plain": [
       "         Unnamed: 0        Date      Time  Global_active_power  \\\n",
       "0                 0  16/12/2006  17:24:00                4.216   \n",
       "1                 1  16/12/2006  17:25:00                5.360   \n",
       "2                 2  16/12/2006  17:26:00                5.374   \n",
       "3                 3  16/12/2006  17:27:00                5.388   \n",
       "4                 4  16/12/2006  17:28:00                3.666   \n",
       "...             ...         ...       ...                  ...   \n",
       "2049275     2075254  26/11/2010  20:58:00                0.946   \n",
       "2049276     2075255  26/11/2010  20:59:00                0.944   \n",
       "2049277     2075256  26/11/2010  21:00:00                0.938   \n",
       "2049278     2075257  26/11/2010  21:01:00                0.934   \n",
       "2049279     2075258  26/11/2010  21:02:00                0.932   \n",
       "\n",
       "         Global_reactive_power  Voltage  Global_intensity  Sub_metering_1  \\\n",
       "0                        0.418   234.84              18.4             0.0   \n",
       "1                        0.436   233.63              23.0             0.0   \n",
       "2                        0.498   233.29              23.0             0.0   \n",
       "3                        0.502   233.74              23.0             0.0   \n",
       "4                        0.528   235.68              15.8             0.0   \n",
       "...                        ...      ...               ...             ...   \n",
       "2049275                  0.000   240.43               4.0             0.0   \n",
       "2049276                  0.000   240.00               4.0             0.0   \n",
       "2049277                  0.000   239.82               3.8             0.0   \n",
       "2049278                  0.000   239.70               3.8             0.0   \n",
       "2049279                  0.000   239.55               3.8             0.0   \n",
       "\n",
       "         Sub_metering_2  Sub_metering_3  \n",
       "0                   1.0            17.0  \n",
       "1                   1.0            16.0  \n",
       "2                   2.0            17.0  \n",
       "3                   1.0            17.0  \n",
       "4                   1.0            17.0  \n",
       "...                 ...             ...  \n",
       "2049275             0.0             0.0  \n",
       "2049276             0.0             0.0  \n",
       "2049277             0.0             0.0  \n",
       "2049278             0.0             0.0  \n",
       "2049279             0.0             0.0  \n",
       "\n",
       "[2049280 rows x 10 columns]"
      ]
     },
     "execution_count": 102,
     "metadata": {},
     "output_type": "execute_result"
    }
   ],
   "source": [
    "hpc"
   ]
  },
  {
   "cell_type": "code",
   "execution_count": 103,
   "metadata": {},
   "outputs": [],
   "source": [
    "hpc=pd.read_csv(\"hpc_breakdowns.csv\",infer_datetime_format=True,parse_dates=[['Date','Time']], index_col='Date_Time')\n"
   ]
  },
  {
   "cell_type": "code",
   "execution_count": 104,
   "metadata": {},
   "outputs": [
    {
     "data": {
      "text/html": [
       "<div>\n",
       "<style scoped>\n",
       "    .dataframe tbody tr th:only-of-type {\n",
       "        vertical-align: middle;\n",
       "    }\n",
       "\n",
       "    .dataframe tbody tr th {\n",
       "        vertical-align: top;\n",
       "    }\n",
       "\n",
       "    .dataframe thead th {\n",
       "        text-align: right;\n",
       "    }\n",
       "</style>\n",
       "<table border=\"1\" class=\"dataframe\">\n",
       "  <thead>\n",
       "    <tr style=\"text-align: right;\">\n",
       "      <th></th>\n",
       "      <th>Unnamed: 0</th>\n",
       "      <th>Global_active_power</th>\n",
       "      <th>Global_reactive_power</th>\n",
       "      <th>Voltage</th>\n",
       "      <th>Global_intensity</th>\n",
       "      <th>Sub_metering_1</th>\n",
       "      <th>Sub_metering_2</th>\n",
       "      <th>Sub_metering_3</th>\n",
       "    </tr>\n",
       "    <tr>\n",
       "      <th>Date_Time</th>\n",
       "      <th></th>\n",
       "      <th></th>\n",
       "      <th></th>\n",
       "      <th></th>\n",
       "      <th></th>\n",
       "      <th></th>\n",
       "      <th></th>\n",
       "      <th></th>\n",
       "    </tr>\n",
       "  </thead>\n",
       "  <tbody>\n",
       "    <tr>\n",
       "      <td>2006-12-16 17:24:00</td>\n",
       "      <td>0</td>\n",
       "      <td>4.216</td>\n",
       "      <td>0.418</td>\n",
       "      <td>234.84</td>\n",
       "      <td>18.4</td>\n",
       "      <td>0.0</td>\n",
       "      <td>1.0</td>\n",
       "      <td>17.0</td>\n",
       "    </tr>\n",
       "    <tr>\n",
       "      <td>2006-12-16 17:25:00</td>\n",
       "      <td>1</td>\n",
       "      <td>5.360</td>\n",
       "      <td>0.436</td>\n",
       "      <td>233.63</td>\n",
       "      <td>23.0</td>\n",
       "      <td>0.0</td>\n",
       "      <td>1.0</td>\n",
       "      <td>16.0</td>\n",
       "    </tr>\n",
       "    <tr>\n",
       "      <td>2006-12-16 17:26:00</td>\n",
       "      <td>2</td>\n",
       "      <td>5.374</td>\n",
       "      <td>0.498</td>\n",
       "      <td>233.29</td>\n",
       "      <td>23.0</td>\n",
       "      <td>0.0</td>\n",
       "      <td>2.0</td>\n",
       "      <td>17.0</td>\n",
       "    </tr>\n",
       "    <tr>\n",
       "      <td>2006-12-16 17:27:00</td>\n",
       "      <td>3</td>\n",
       "      <td>5.388</td>\n",
       "      <td>0.502</td>\n",
       "      <td>233.74</td>\n",
       "      <td>23.0</td>\n",
       "      <td>0.0</td>\n",
       "      <td>1.0</td>\n",
       "      <td>17.0</td>\n",
       "    </tr>\n",
       "    <tr>\n",
       "      <td>2006-12-16 17:28:00</td>\n",
       "      <td>4</td>\n",
       "      <td>3.666</td>\n",
       "      <td>0.528</td>\n",
       "      <td>235.68</td>\n",
       "      <td>15.8</td>\n",
       "      <td>0.0</td>\n",
       "      <td>1.0</td>\n",
       "      <td>17.0</td>\n",
       "    </tr>\n",
       "  </tbody>\n",
       "</table>\n",
       "</div>"
      ],
      "text/plain": [
       "                     Unnamed: 0  Global_active_power  Global_reactive_power  \\\n",
       "Date_Time                                                                     \n",
       "2006-12-16 17:24:00           0                4.216                  0.418   \n",
       "2006-12-16 17:25:00           1                5.360                  0.436   \n",
       "2006-12-16 17:26:00           2                5.374                  0.498   \n",
       "2006-12-16 17:27:00           3                5.388                  0.502   \n",
       "2006-12-16 17:28:00           4                3.666                  0.528   \n",
       "\n",
       "                     Voltage  Global_intensity  Sub_metering_1  \\\n",
       "Date_Time                                                        \n",
       "2006-12-16 17:24:00   234.84              18.4             0.0   \n",
       "2006-12-16 17:25:00   233.63              23.0             0.0   \n",
       "2006-12-16 17:26:00   233.29              23.0             0.0   \n",
       "2006-12-16 17:27:00   233.74              23.0             0.0   \n",
       "2006-12-16 17:28:00   235.68              15.8             0.0   \n",
       "\n",
       "                     Sub_metering_2  Sub_metering_3  \n",
       "Date_Time                                            \n",
       "2006-12-16 17:24:00             1.0            17.0  \n",
       "2006-12-16 17:25:00             1.0            16.0  \n",
       "2006-12-16 17:26:00             2.0            17.0  \n",
       "2006-12-16 17:27:00             1.0            17.0  \n",
       "2006-12-16 17:28:00             1.0            17.0  "
      ]
     },
     "execution_count": 104,
     "metadata": {},
     "output_type": "execute_result"
    }
   ],
   "source": [
    "hpc.head()"
   ]
  },
  {
   "cell_type": "code",
   "execution_count": 105,
   "metadata": {},
   "outputs": [
    {
     "name": "stdout",
     "output_type": "stream",
     "text": [
      "<class 'pandas.core.frame.DataFrame'>\n",
      "DatetimeIndex: 2049280 entries, 2006-12-16 17:24:00 to 2010-11-26 21:02:00\n",
      "Data columns (total 8 columns):\n",
      "Unnamed: 0               int64\n",
      "Global_active_power      float64\n",
      "Global_reactive_power    float64\n",
      "Voltage                  float64\n",
      "Global_intensity         float64\n",
      "Sub_metering_1           float64\n",
      "Sub_metering_2           float64\n",
      "Sub_metering_3           float64\n",
      "dtypes: float64(7), int64(1)\n",
      "memory usage: 140.7 MB\n"
     ]
    }
   ],
   "source": [
    "hpc.info()"
   ]
  },
  {
   "cell_type": "code",
   "execution_count": 106,
   "metadata": {},
   "outputs": [
    {
     "data": {
      "text/plain": [
       "Unnamed: 0                 int64\n",
       "Global_active_power      float64\n",
       "Global_reactive_power    float64\n",
       "Voltage                  float64\n",
       "Global_intensity         float64\n",
       "Sub_metering_1           float64\n",
       "Sub_metering_2           float64\n",
       "Sub_metering_3           float64\n",
       "dtype: object"
      ]
     },
     "execution_count": 106,
     "metadata": {},
     "output_type": "execute_result"
    }
   ],
   "source": [
    "hpc.dtypes"
   ]
  },
  {
   "cell_type": "code",
   "execution_count": 107,
   "metadata": {},
   "outputs": [
    {
     "data": {
      "text/html": [
       "<div>\n",
       "<style scoped>\n",
       "    .dataframe tbody tr th:only-of-type {\n",
       "        vertical-align: middle;\n",
       "    }\n",
       "\n",
       "    .dataframe tbody tr th {\n",
       "        vertical-align: top;\n",
       "    }\n",
       "\n",
       "    .dataframe thead th {\n",
       "        text-align: right;\n",
       "    }\n",
       "</style>\n",
       "<table border=\"1\" class=\"dataframe\">\n",
       "  <thead>\n",
       "    <tr style=\"text-align: right;\">\n",
       "      <th></th>\n",
       "      <th>Unnamed: 0</th>\n",
       "      <th>Global_active_power</th>\n",
       "      <th>Global_reactive_power</th>\n",
       "      <th>Voltage</th>\n",
       "      <th>Global_intensity</th>\n",
       "      <th>Sub_metering_1</th>\n",
       "      <th>Sub_metering_2</th>\n",
       "      <th>Sub_metering_3</th>\n",
       "    </tr>\n",
       "  </thead>\n",
       "  <tbody>\n",
       "    <tr>\n",
       "      <td>count</td>\n",
       "      <td>2.049280e+06</td>\n",
       "      <td>2.047237e+06</td>\n",
       "      <td>2.048803e+06</td>\n",
       "      <td>2.047249e+06</td>\n",
       "      <td>2.047279e+06</td>\n",
       "      <td>2.047983e+06</td>\n",
       "      <td>2.048070e+06</td>\n",
       "      <td>2.049151e+06</td>\n",
       "    </tr>\n",
       "    <tr>\n",
       "      <td>mean</td>\n",
       "      <td>1.031496e+06</td>\n",
       "      <td>1.091655e+00</td>\n",
       "      <td>1.237129e-01</td>\n",
       "      <td>2.408405e+02</td>\n",
       "      <td>4.627869e+00</td>\n",
       "      <td>1.122227e+00</td>\n",
       "      <td>1.298954e+00</td>\n",
       "      <td>6.458394e+00</td>\n",
       "    </tr>\n",
       "    <tr>\n",
       "      <td>std</td>\n",
       "      <td>5.964586e+05</td>\n",
       "      <td>1.057290e+00</td>\n",
       "      <td>1.127240e-01</td>\n",
       "      <td>3.238838e+00</td>\n",
       "      <td>4.444695e+00</td>\n",
       "      <td>6.153978e+00</td>\n",
       "      <td>5.823372e+00</td>\n",
       "      <td>8.437150e+00</td>\n",
       "    </tr>\n",
       "    <tr>\n",
       "      <td>min</td>\n",
       "      <td>0.000000e+00</td>\n",
       "      <td>7.600000e-02</td>\n",
       "      <td>0.000000e+00</td>\n",
       "      <td>2.232000e+02</td>\n",
       "      <td>2.000000e-01</td>\n",
       "      <td>0.000000e+00</td>\n",
       "      <td>0.000000e+00</td>\n",
       "      <td>0.000000e+00</td>\n",
       "    </tr>\n",
       "    <tr>\n",
       "      <td>25%</td>\n",
       "      <td>5.162538e+05</td>\n",
       "      <td>3.080000e-01</td>\n",
       "      <td>4.800000e-02</td>\n",
       "      <td>2.389900e+02</td>\n",
       "      <td>1.400000e+00</td>\n",
       "      <td>0.000000e+00</td>\n",
       "      <td>0.000000e+00</td>\n",
       "      <td>0.000000e+00</td>\n",
       "    </tr>\n",
       "    <tr>\n",
       "      <td>50%</td>\n",
       "      <td>1.028638e+06</td>\n",
       "      <td>6.020000e-01</td>\n",
       "      <td>1.000000e-01</td>\n",
       "      <td>2.410100e+02</td>\n",
       "      <td>2.600000e+00</td>\n",
       "      <td>0.000000e+00</td>\n",
       "      <td>0.000000e+00</td>\n",
       "      <td>1.000000e+00</td>\n",
       "    </tr>\n",
       "    <tr>\n",
       "      <td>75%</td>\n",
       "      <td>1.545307e+06</td>\n",
       "      <td>1.528000e+00</td>\n",
       "      <td>1.940000e-01</td>\n",
       "      <td>2.428900e+02</td>\n",
       "      <td>6.400000e+00</td>\n",
       "      <td>0.000000e+00</td>\n",
       "      <td>1.000000e+00</td>\n",
       "      <td>1.700000e+01</td>\n",
       "    </tr>\n",
       "    <tr>\n",
       "      <td>max</td>\n",
       "      <td>2.075258e+06</td>\n",
       "      <td>1.112200e+01</td>\n",
       "      <td>1.390000e+00</td>\n",
       "      <td>2.541500e+02</td>\n",
       "      <td>4.840000e+01</td>\n",
       "      <td>8.800000e+01</td>\n",
       "      <td>8.000000e+01</td>\n",
       "      <td>3.100000e+01</td>\n",
       "    </tr>\n",
       "  </tbody>\n",
       "</table>\n",
       "</div>"
      ],
      "text/plain": [
       "         Unnamed: 0  Global_active_power  Global_reactive_power       Voltage  \\\n",
       "count  2.049280e+06         2.047237e+06           2.048803e+06  2.047249e+06   \n",
       "mean   1.031496e+06         1.091655e+00           1.237129e-01  2.408405e+02   \n",
       "std    5.964586e+05         1.057290e+00           1.127240e-01  3.238838e+00   \n",
       "min    0.000000e+00         7.600000e-02           0.000000e+00  2.232000e+02   \n",
       "25%    5.162538e+05         3.080000e-01           4.800000e-02  2.389900e+02   \n",
       "50%    1.028638e+06         6.020000e-01           1.000000e-01  2.410100e+02   \n",
       "75%    1.545307e+06         1.528000e+00           1.940000e-01  2.428900e+02   \n",
       "max    2.075258e+06         1.112200e+01           1.390000e+00  2.541500e+02   \n",
       "\n",
       "       Global_intensity  Sub_metering_1  Sub_metering_2  Sub_metering_3  \n",
       "count      2.047279e+06    2.047983e+06    2.048070e+06    2.049151e+06  \n",
       "mean       4.627869e+00    1.122227e+00    1.298954e+00    6.458394e+00  \n",
       "std        4.444695e+00    6.153978e+00    5.823372e+00    8.437150e+00  \n",
       "min        2.000000e-01    0.000000e+00    0.000000e+00    0.000000e+00  \n",
       "25%        1.400000e+00    0.000000e+00    0.000000e+00    0.000000e+00  \n",
       "50%        2.600000e+00    0.000000e+00    0.000000e+00    1.000000e+00  \n",
       "75%        6.400000e+00    0.000000e+00    1.000000e+00    1.700000e+01  \n",
       "max        4.840000e+01    8.800000e+01    8.000000e+01    3.100000e+01  "
      ]
     },
     "execution_count": 107,
     "metadata": {},
     "output_type": "execute_result"
    }
   ],
   "source": [
    "hpc.describe()"
   ]
  },
  {
   "cell_type": "code",
   "execution_count": 108,
   "metadata": {},
   "outputs": [
    {
     "data": {
      "text/plain": [
       "(2049280, 8)"
      ]
     },
     "execution_count": 108,
     "metadata": {},
     "output_type": "execute_result"
    }
   ],
   "source": [
    "hpc.shape"
   ]
  },
  {
   "cell_type": "markdown",
   "metadata": {},
   "source": [
    "# Data Analysis"
   ]
  },
  {
   "cell_type": "markdown",
   "metadata": {},
   "source": [
    "Checking mising Values"
   ]
  },
  {
   "cell_type": "code",
   "execution_count": 109,
   "metadata": {},
   "outputs": [
    {
     "data": {
      "text/plain": [
       "Unnamed: 0                  0\n",
       "Global_active_power      2043\n",
       "Global_reactive_power     477\n",
       "Voltage                  2031\n",
       "Global_intensity         2001\n",
       "Sub_metering_1           1297\n",
       "Sub_metering_2           1210\n",
       "Sub_metering_3            129\n",
       "dtype: int64"
      ]
     },
     "execution_count": 109,
     "metadata": {},
     "output_type": "execute_result"
    }
   ],
   "source": [
    "hpc.isnull().sum()"
   ]
  },
  {
   "cell_type": "code",
   "execution_count": 110,
   "metadata": {},
   "outputs": [
    {
     "data": {
      "text/plain": [
       "<matplotlib.axes._subplots.AxesSubplot at 0x2940b53ca48>"
      ]
     },
     "execution_count": 110,
     "metadata": {},
     "output_type": "execute_result"
    },
    {
     "data": {
      "image/png": "[encoded data removed]",
      "text/plain": [
       "<Figure size 720x360 with 1 Axes>"
      ]
     },
     "metadata": {
      "needs_background": "light"
     },
     "output_type": "display_data"
    }
   ],
   "source": [
    "plt.figure(figsize=(10,5))\n",
    "sns.boxplot(data = hpc)"
   ]
  },
  {
   "cell_type": "code",
   "execution_count": 111,
   "metadata": {},
   "outputs": [
    {
     "data": {
      "text/plain": [
       "<matplotlib.axes._subplots.AxesSubplot at 0x2940b91a888>"
      ]
     },
     "execution_count": 111,
     "metadata": {},
     "output_type": "execute_result"
    },
    {
     "data": {
      "image/png": "[encoded data removed]",
      "text/plain": [
       "<Figure size 720x576 with 1 Axes>"
      ]
     },
     "metadata": {
      "needs_background": "light"
     },
     "output_type": "display_data"
    }
   ],
   "source": [
    "plt.figure(figsize=(10,8))\n",
    "sns.boxplot(data = hpc.iloc[:, :2])"
   ]
  },
  {
   "cell_type": "code",
   "execution_count": 112,
   "metadata": {},
   "outputs": [
    {
     "data": {
      "text/plain": [
       "<matplotlib.axes._subplots.AxesSubplot at 0x2940b896d08>"
      ]
     },
     "execution_count": 112,
     "metadata": {},
     "output_type": "execute_result"
    },
    {
     "data": {
      "image/png": "[encoded data removed]",
      "text/plain": [
       "<Figure size 720x576 with 1 Axes>"
      ]
     },
     "metadata": {
      "needs_background": "light"
     },
     "output_type": "display_data"
    }
   ],
   "source": [
    "plt.figure(figsize=(10,8))\n",
    "sns.boxplot(data = hpc.iloc[:, 2])"
   ]
  },
  {
   "cell_type": "code",
   "execution_count": 113,
   "metadata": {},
   "outputs": [
    {
     "data": {
      "text/plain": [
       "<matplotlib.axes._subplots.AxesSubplot at 0x2940b4d83c8>"
      ]
     },
     "execution_count": 113,
     "metadata": {},
     "output_type": "execute_result"
    },
    {
     "data": {
      "image/png": "[encoded data removed]",
      "text/plain": [
       "<Figure size 720x576 with 1 Axes>"
      ]
     },
     "metadata": {
      "needs_background": "light"
     },
     "output_type": "display_data"
    }
   ],
   "source": [
    "plt.figure(figsize=(10,8))\n",
    "sns.boxplot(data = hpc.iloc[:, 3])"
   ]
  },
  {
   "cell_type": "code",
   "execution_count": 114,
   "metadata": {},
   "outputs": [
    {
     "data": {
      "text/plain": [
       "<matplotlib.axes._subplots.AxesSubplot at 0x2940b4baf48>"
      ]
     },
     "execution_count": 114,
     "metadata": {},
     "output_type": "execute_result"
    },
    {
     "data": {
      "image/png": "[encoded data removed]",
      "text/plain": [
       "<Figure size 720x576 with 1 Axes>"
      ]
     },
     "metadata": {
      "needs_background": "light"
     },
     "output_type": "display_data"
    }
   ],
   "source": [
    "plt.figure(figsize=(10,8))\n",
    "sns.boxplot(data = hpc.iloc[:, 6])"
   ]
  },
  {
   "cell_type": "markdown",
   "metadata": {},
   "source": [
    "Removing Missing value"
   ]
  },
  {
   "cell_type": "code",
   "execution_count": 115,
   "metadata": {},
   "outputs": [],
   "source": [
    "for i in range(0,8):        \n",
    "        hpc.iloc[:,i]=hpc.iloc[:,i].fillna(hpc.iloc[:,i].mean())"
   ]
  },
  {
   "cell_type": "code",
   "execution_count": 116,
   "metadata": {},
   "outputs": [
    {
     "data": {
      "text/plain": [
       "Unnamed: 0               0\n",
       "Global_active_power      0\n",
       "Global_reactive_power    0\n",
       "Voltage                  0\n",
       "Global_intensity         0\n",
       "Sub_metering_1           0\n",
       "Sub_metering_2           0\n",
       "Sub_metering_3           0\n",
       "dtype: int64"
      ]
     },
     "execution_count": 116,
     "metadata": {},
     "output_type": "execute_result"
    }
   ],
   "source": [
    "hpc.isnull().sum()"
   ]
  },
  {
   "cell_type": "code",
   "execution_count": 117,
   "metadata": {},
   "outputs": [],
   "source": [
    "hpc.drop(['Unnamed: 0'],inplace=True,axis=1)"
   ]
  },
  {
   "cell_type": "code",
   "execution_count": 118,
   "metadata": {},
   "outputs": [
    {
     "data": {
      "text/html": [
       "<div>\n",
       "<style scoped>\n",
       "    .dataframe tbody tr th:only-of-type {\n",
       "        vertical-align: middle;\n",
       "    }\n",
       "\n",
       "    .dataframe tbody tr th {\n",
       "        vertical-align: top;\n",
       "    }\n",
       "\n",
       "    .dataframe thead th {\n",
       "        text-align: right;\n",
       "    }\n",
       "</style>\n",
       "<table border=\"1\" class=\"dataframe\">\n",
       "  <thead>\n",
       "    <tr style=\"text-align: right;\">\n",
       "      <th></th>\n",
       "      <th>Global_active_power</th>\n",
       "      <th>Global_reactive_power</th>\n",
       "      <th>Voltage</th>\n",
       "      <th>Global_intensity</th>\n",
       "      <th>Sub_metering_1</th>\n",
       "      <th>Sub_metering_2</th>\n",
       "      <th>Sub_metering_3</th>\n",
       "    </tr>\n",
       "    <tr>\n",
       "      <th>Date_Time</th>\n",
       "      <th></th>\n",
       "      <th></th>\n",
       "      <th></th>\n",
       "      <th></th>\n",
       "      <th></th>\n",
       "      <th></th>\n",
       "      <th></th>\n",
       "    </tr>\n",
       "  </thead>\n",
       "  <tbody>\n",
       "    <tr>\n",
       "      <td>2006-12-16 17:24:00</td>\n",
       "      <td>4.216</td>\n",
       "      <td>0.418</td>\n",
       "      <td>234.84</td>\n",
       "      <td>18.4</td>\n",
       "      <td>0.0</td>\n",
       "      <td>1.0</td>\n",
       "      <td>17.0</td>\n",
       "    </tr>\n",
       "    <tr>\n",
       "      <td>2006-12-16 17:25:00</td>\n",
       "      <td>5.360</td>\n",
       "      <td>0.436</td>\n",
       "      <td>233.63</td>\n",
       "      <td>23.0</td>\n",
       "      <td>0.0</td>\n",
       "      <td>1.0</td>\n",
       "      <td>16.0</td>\n",
       "    </tr>\n",
       "    <tr>\n",
       "      <td>2006-12-16 17:26:00</td>\n",
       "      <td>5.374</td>\n",
       "      <td>0.498</td>\n",
       "      <td>233.29</td>\n",
       "      <td>23.0</td>\n",
       "      <td>0.0</td>\n",
       "      <td>2.0</td>\n",
       "      <td>17.0</td>\n",
       "    </tr>\n",
       "    <tr>\n",
       "      <td>2006-12-16 17:27:00</td>\n",
       "      <td>5.388</td>\n",
       "      <td>0.502</td>\n",
       "      <td>233.74</td>\n",
       "      <td>23.0</td>\n",
       "      <td>0.0</td>\n",
       "      <td>1.0</td>\n",
       "      <td>17.0</td>\n",
       "    </tr>\n",
       "    <tr>\n",
       "      <td>2006-12-16 17:28:00</td>\n",
       "      <td>3.666</td>\n",
       "      <td>0.528</td>\n",
       "      <td>235.68</td>\n",
       "      <td>15.8</td>\n",
       "      <td>0.0</td>\n",
       "      <td>1.0</td>\n",
       "      <td>17.0</td>\n",
       "    </tr>\n",
       "  </tbody>\n",
       "</table>\n",
       "</div>"
      ],
      "text/plain": [
       "                     Global_active_power  Global_reactive_power  Voltage  \\\n",
       "Date_Time                                                                  \n",
       "2006-12-16 17:24:00                4.216                  0.418   234.84   \n",
       "2006-12-16 17:25:00                5.360                  0.436   233.63   \n",
       "2006-12-16 17:26:00                5.374                  0.498   233.29   \n",
       "2006-12-16 17:27:00                5.388                  0.502   233.74   \n",
       "2006-12-16 17:28:00                3.666                  0.528   235.68   \n",
       "\n",
       "                     Global_intensity  Sub_metering_1  Sub_metering_2  \\\n",
       "Date_Time                                                               \n",
       "2006-12-16 17:24:00              18.4             0.0             1.0   \n",
       "2006-12-16 17:25:00              23.0             0.0             1.0   \n",
       "2006-12-16 17:26:00              23.0             0.0             2.0   \n",
       "2006-12-16 17:27:00              23.0             0.0             1.0   \n",
       "2006-12-16 17:28:00              15.8             0.0             1.0   \n",
       "\n",
       "                     Sub_metering_3  \n",
       "Date_Time                            \n",
       "2006-12-16 17:24:00            17.0  \n",
       "2006-12-16 17:25:00            16.0  \n",
       "2006-12-16 17:26:00            17.0  \n",
       "2006-12-16 17:27:00            17.0  \n",
       "2006-12-16 17:28:00            17.0  "
      ]
     },
     "execution_count": 118,
     "metadata": {},
     "output_type": "execute_result"
    }
   ],
   "source": [
    "hpc.head()"
   ]
  },
  {
   "cell_type": "code",
   "execution_count": 119,
   "metadata": {},
   "outputs": [
    {
     "data": {
      "text/plain": [
       "Global_active_power      0.089421\n",
       "Global_reactive_power    0.000480\n",
       "Voltage                  2.417981\n",
       "Global_intensity         1.481130\n",
       "Sub_metering_1           0.113990\n",
       "Sub_metering_2           0.150799\n",
       "Sub_metering_3           2.355288\n",
       "dtype: float64"
      ]
     },
     "execution_count": 119,
     "metadata": {},
     "output_type": "execute_result"
    }
   ],
   "source": [
    "#resampling Calculate power consumed per month month data\n",
    "\n",
    "hpc_res = hpc.resample('M').mean()\n",
    "hpc_res.var()"
   ]
  },
  {
   "cell_type": "code",
   "execution_count": 120,
   "metadata": {},
   "outputs": [
    {
     "data": {
      "text/plain": [
       "<Figure size 1080x576 with 0 Axes>"
      ]
     },
     "metadata": {},
     "output_type": "display_data"
    },
    {
     "data": {
      "image/png": "[encoded data removed]",
      "text/plain": [
       "<Figure size 432x288 with 1 Axes>"
      ]
     },
     "metadata": {
      "needs_background": "light"
     },
     "output_type": "display_data"
    }
   ],
   "source": [
    "plt.figure(figsize=(15,8)) # size of plot\n",
    "hpc_res.plot(kind='hist')\n",
    "plt.xticks(rotation=60) #sequence Values to use for the xticks\n",
    "plt.ylabel('hpc_res')\n",
    "plt.title('sum of power per month')\n",
    "plt.show()"
   ]
  },
  {
   "cell_type": "code",
   "execution_count": 121,
   "metadata": {},
   "outputs": [
    {
     "data": {
      "text/html": [
       "<div>\n",
       "<style scoped>\n",
       "    .dataframe tbody tr th:only-of-type {\n",
       "        vertical-align: middle;\n",
       "    }\n",
       "\n",
       "    .dataframe tbody tr th {\n",
       "        vertical-align: top;\n",
       "    }\n",
       "\n",
       "    .dataframe thead th {\n",
       "        text-align: right;\n",
       "    }\n",
       "</style>\n",
       "<table border=\"1\" class=\"dataframe\">\n",
       "  <thead>\n",
       "    <tr style=\"text-align: right;\">\n",
       "      <th></th>\n",
       "      <th>Global_active_power</th>\n",
       "      <th>Global_reactive_power</th>\n",
       "      <th>Voltage</th>\n",
       "      <th>Global_intensity</th>\n",
       "      <th>Sub_metering_1</th>\n",
       "      <th>Sub_metering_2</th>\n",
       "      <th>Sub_metering_3</th>\n",
       "    </tr>\n",
       "  </thead>\n",
       "  <tbody>\n",
       "    <tr>\n",
       "      <td>count</td>\n",
       "      <td>48.000000</td>\n",
       "      <td>48.000000</td>\n",
       "      <td>48.000000</td>\n",
       "      <td>48.000000</td>\n",
       "      <td>48.000000</td>\n",
       "      <td>48.000000</td>\n",
       "      <td>48.000000</td>\n",
       "    </tr>\n",
       "    <tr>\n",
       "      <td>mean</td>\n",
       "      <td>1.099316</td>\n",
       "      <td>0.123689</td>\n",
       "      <td>240.854246</td>\n",
       "      <td>4.659706</td>\n",
       "      <td>1.121231</td>\n",
       "      <td>1.303708</td>\n",
       "      <td>6.474409</td>\n",
       "    </tr>\n",
       "    <tr>\n",
       "      <td>std</td>\n",
       "      <td>0.299033</td>\n",
       "      <td>0.021902</td>\n",
       "      <td>1.554986</td>\n",
       "      <td>1.217017</td>\n",
       "      <td>0.337624</td>\n",
       "      <td>0.388328</td>\n",
       "      <td>1.534695</td>\n",
       "    </tr>\n",
       "    <tr>\n",
       "      <td>min</td>\n",
       "      <td>0.276488</td>\n",
       "      <td>0.087164</td>\n",
       "      <td>235.180782</td>\n",
       "      <td>1.263569</td>\n",
       "      <td>0.086765</td>\n",
       "      <td>0.501135</td>\n",
       "      <td>1.784690</td>\n",
       "    </tr>\n",
       "    <tr>\n",
       "      <td>25%</td>\n",
       "      <td>0.965788</td>\n",
       "      <td>0.109515</td>\n",
       "      <td>240.359153</td>\n",
       "      <td>4.144653</td>\n",
       "      <td>0.970688</td>\n",
       "      <td>1.061207</td>\n",
       "      <td>5.612713</td>\n",
       "    </tr>\n",
       "    <tr>\n",
       "      <td>50%</td>\n",
       "      <td>1.123354</td>\n",
       "      <td>0.124889</td>\n",
       "      <td>240.879684</td>\n",
       "      <td>4.712009</td>\n",
       "      <td>1.184714</td>\n",
       "      <td>1.256157</td>\n",
       "      <td>6.753966</td>\n",
       "    </tr>\n",
       "    <tr>\n",
       "      <td>75%</td>\n",
       "      <td>1.280198</td>\n",
       "      <td>0.131733</td>\n",
       "      <td>241.738879</td>\n",
       "      <td>5.361986</td>\n",
       "      <td>1.307593</td>\n",
       "      <td>1.605991</td>\n",
       "      <td>7.358702</td>\n",
       "    </tr>\n",
       "    <tr>\n",
       "      <td>max</td>\n",
       "      <td>1.902314</td>\n",
       "      <td>0.188426</td>\n",
       "      <td>244.083697</td>\n",
       "      <td>8.021025</td>\n",
       "      <td>1.696617</td>\n",
       "      <td>2.346872</td>\n",
       "      <td>10.211667</td>\n",
       "    </tr>\n",
       "  </tbody>\n",
       "</table>\n",
       "</div>"
      ],
      "text/plain": [
       "       Global_active_power  Global_reactive_power     Voltage  \\\n",
       "count            48.000000              48.000000   48.000000   \n",
       "mean              1.099316               0.123689  240.854246   \n",
       "std               0.299033               0.021902    1.554986   \n",
       "min               0.276488               0.087164  235.180782   \n",
       "25%               0.965788               0.109515  240.359153   \n",
       "50%               1.123354               0.124889  240.879684   \n",
       "75%               1.280198               0.131733  241.738879   \n",
       "max               1.902314               0.188426  244.083697   \n",
       "\n",
       "       Global_intensity  Sub_metering_1  Sub_metering_2  Sub_metering_3  \n",
       "count         48.000000       48.000000       48.000000       48.000000  \n",
       "mean           4.659706        1.121231        1.303708        6.474409  \n",
       "std            1.217017        0.337624        0.388328        1.534695  \n",
       "min            1.263569        0.086765        0.501135        1.784690  \n",
       "25%            4.144653        0.970688        1.061207        5.612713  \n",
       "50%            4.712009        1.184714        1.256157        6.753966  \n",
       "75%            5.361986        1.307593        1.605991        7.358702  \n",
       "max            8.021025        1.696617        2.346872       10.211667  "
      ]
     },
     "execution_count": 121,
     "metadata": {},
     "output_type": "execute_result"
    }
   ],
   "source": [
    "hpc_res.describe()"
   ]
  },
  {
   "cell_type": "code",
   "execution_count": 122,
   "metadata": {},
   "outputs": [
    {
     "data": {
      "text/html": [
       "<div>\n",
       "<style scoped>\n",
       "    .dataframe tbody tr th:only-of-type {\n",
       "        vertical-align: middle;\n",
       "    }\n",
       "\n",
       "    .dataframe tbody tr th {\n",
       "        vertical-align: top;\n",
       "    }\n",
       "\n",
       "    .dataframe thead th {\n",
       "        text-align: right;\n",
       "    }\n",
       "</style>\n",
       "<table border=\"1\" class=\"dataframe\">\n",
       "  <thead>\n",
       "    <tr style=\"text-align: right;\">\n",
       "      <th></th>\n",
       "      <th>Global_active_power</th>\n",
       "      <th>Global_reactive_power</th>\n",
       "      <th>Voltage</th>\n",
       "      <th>Global_intensity</th>\n",
       "      <th>Sub_metering_1</th>\n",
       "      <th>Sub_metering_2</th>\n",
       "      <th>Sub_metering_3</th>\n",
       "    </tr>\n",
       "    <tr>\n",
       "      <th>Date_Time</th>\n",
       "      <th></th>\n",
       "      <th></th>\n",
       "      <th></th>\n",
       "      <th></th>\n",
       "      <th></th>\n",
       "      <th></th>\n",
       "      <th></th>\n",
       "    </tr>\n",
       "  </thead>\n",
       "  <tbody>\n",
       "    <tr>\n",
       "      <td>2006-12-31</td>\n",
       "      <td>1.902314</td>\n",
       "      <td>0.131386</td>\n",
       "      <td>241.441125</td>\n",
       "      <td>8.021025</td>\n",
       "      <td>1.252769</td>\n",
       "      <td>2.214987</td>\n",
       "      <td>7.409558</td>\n",
       "    </tr>\n",
       "    <tr>\n",
       "      <td>2007-01-31</td>\n",
       "      <td>1.546008</td>\n",
       "      <td>0.132676</td>\n",
       "      <td>240.902849</td>\n",
       "      <td>6.548496</td>\n",
       "      <td>1.266726</td>\n",
       "      <td>1.775931</td>\n",
       "      <td>7.383351</td>\n",
       "    </tr>\n",
       "    <tr>\n",
       "      <td>2007-02-28</td>\n",
       "      <td>1.401084</td>\n",
       "      <td>0.113637</td>\n",
       "      <td>240.517972</td>\n",
       "      <td>5.915439</td>\n",
       "      <td>1.180217</td>\n",
       "      <td>1.602361</td>\n",
       "      <td>6.703557</td>\n",
       "    </tr>\n",
       "    <tr>\n",
       "      <td>2007-03-31</td>\n",
       "      <td>1.317567</td>\n",
       "      <td>0.114747</td>\n",
       "      <td>240.514361</td>\n",
       "      <td>5.572979</td>\n",
       "      <td>1.362047</td>\n",
       "      <td>2.346872</td>\n",
       "      <td>6.504648</td>\n",
       "    </tr>\n",
       "    <tr>\n",
       "      <td>2007-04-30</td>\n",
       "      <td>0.891857</td>\n",
       "      <td>0.118778</td>\n",
       "      <td>239.403557</td>\n",
       "      <td>3.825676</td>\n",
       "      <td>1.066256</td>\n",
       "      <td>0.973149</td>\n",
       "      <td>4.800339</td>\n",
       "    </tr>\n",
       "  </tbody>\n",
       "</table>\n",
       "</div>"
      ],
      "text/plain": [
       "            Global_active_power  Global_reactive_power     Voltage  \\\n",
       "Date_Time                                                            \n",
       "2006-12-31             1.902314               0.131386  241.441125   \n",
       "2007-01-31             1.546008               0.132676  240.902849   \n",
       "2007-02-28             1.401084               0.113637  240.517972   \n",
       "2007-03-31             1.317567               0.114747  240.514361   \n",
       "2007-04-30             0.891857               0.118778  239.403557   \n",
       "\n",
       "            Global_intensity  Sub_metering_1  Sub_metering_2  Sub_metering_3  \n",
       "Date_Time                                                                     \n",
       "2006-12-31          8.021025        1.252769        2.214987        7.409558  \n",
       "2007-01-31          6.548496        1.266726        1.775931        7.383351  \n",
       "2007-02-28          5.915439        1.180217        1.602361        6.703557  \n",
       "2007-03-31          5.572979        1.362047        2.346872        6.504648  \n",
       "2007-04-30          3.825676        1.066256        0.973149        4.800339  "
      ]
     },
     "execution_count": 122,
     "metadata": {},
     "output_type": "execute_result"
    }
   ],
   "source": [
    "hpc_res.head()"
   ]
  },
  {
   "cell_type": "markdown",
   "metadata": {},
   "source": [
    "Checking Correlation"
   ]
  },
  {
   "cell_type": "code",
   "execution_count": 123,
   "metadata": {},
   "outputs": [
    {
     "data": {
      "text/plain": [
       "<matplotlib.axes._subplots.AxesSubplot at 0x2940a99efc8>"
      ]
     },
     "execution_count": 123,
     "metadata": {},
     "output_type": "execute_result"
    },
    {
     "data": {
      "image/png": "[encoded data removed]",
      "text/plain": [
       "<Figure size 432x288 with 2 Axes>"
      ]
     },
     "metadata": {
      "needs_background": "light"
     },
     "output_type": "display_data"
    }
   ],
   "source": [
    "corr = hpc_res.corr()\n",
    "sns.heatmap(corr, annot=True)"
   ]
  },
  {
   "cell_type": "markdown",
   "metadata": {},
   "source": [
    "Dividing data into features and labels"
   ]
  },
  {
   "cell_type": "code",
   "execution_count": 124,
   "metadata": {},
   "outputs": [],
   "source": [
    "X = hpc_res.drop('Global_active_power', axis = 1)\n",
    "y = hpc_res['Global_active_power']\n"
   ]
  },
  {
   "cell_type": "markdown",
   "metadata": {},
   "source": [
    "Performing Train Test Split"
   ]
  },
  {
   "cell_type": "code",
   "execution_count": 125,
   "metadata": {},
   "outputs": [],
   "source": [
    "X_train, X_test, y_train, y_test = train_test_split(X, y, test_size=0.35,  random_state=42)"
   ]
  },
  {
   "cell_type": "code",
   "execution_count": 126,
   "metadata": {},
   "outputs": [],
   "source": [
    "from sklearn.preprocessing import StandardScaler\n",
    "from sklearn.metrics import mean_squared_error\n",
    "\n",
    "scaler1 = StandardScaler()  \n",
    "scaler1.fit(X_train)\n",
    "\n",
    "X_train = scaler1.transform(X_train)  \n",
    "X_test = scaler1.transform(X_test) "
   ]
  },
  {
   "cell_type": "code",
   "execution_count": 127,
   "metadata": {},
   "outputs": [],
   "source": [
    "knn = KNeighborsRegressor(n_neighbors=3)\n",
    "knn.fit(X_train, y_train)\n",
    "y_pred = knn.predict(X_test)"
   ]
  },
  {
   "cell_type": "code",
   "execution_count": 128,
   "metadata": {},
   "outputs": [
    {
     "name": "stdout",
     "output_type": "stream",
     "text": [
      "Training Score:  0.909366593124422\n",
      "Testing score:  0.9097635866492101\n",
      "Mean Squared Error:  0.006392200342070493\n"
     ]
    }
   ],
   "source": [
    "print('Training Score: ', knn.score(X_train, y_train))\n",
    "print('Testing score: ', knn.score(X_test, y_test))\n",
    "print('Mean Squared Error: ', mean_squared_error(y_test, y_pred))"
   ]
  },
  {
   "cell_type": "code",
   "execution_count": 129,
   "metadata": {},
   "outputs": [],
   "source": [
    "LR = LinearRegression()\n",
    "LR.fit(X_train, y_train)\n",
    "y_pred  =LR.predict(X_test)"
   ]
  },
  {
   "cell_type": "code",
   "execution_count": 130,
   "metadata": {},
   "outputs": [
    {
     "name": "stdout",
     "output_type": "stream",
     "text": [
      "Training Score:  0.999854873733247\n",
      "Testing score:  0.9996296754012087\n",
      "Mean Squared Error:  2.6233190562084912e-05\n"
     ]
    }
   ],
   "source": [
    "print('Training Score: ', LR.score(X_train, y_train))\n",
    "print('Testing score: ', LR.score(X_test, y_test))\n",
    "print('Mean Squared Error: ', mean_squared_error(y_test, y_pred))"
   ]
  },
  {
   "cell_type": "code",
   "execution_count": 131,
   "metadata": {},
   "outputs": [
    {
     "name": "stdout",
     "output_type": "stream",
     "text": [
      "Training Score:  0.7875836971173579\n",
      "Testing score:  -0.8629239835103468\n",
      "Mean Squared Error:  0.1319664964780199\n"
     ]
    }
   ],
   "source": [
    "svr = SVR(kernel='poly', degree=8)\n",
    "svr.fit(X_train, y_train)\n",
    "y_pred  =svr.predict(X_test)\n",
    "print('Training Score: ', svr.score(X_train, y_train))\n",
    "print('Testing score: ', svr.score(X_test, y_test))\n",
    "print('Mean Squared Error: ', mean_squared_error(y_test, y_pred))"
   ]
  },
  {
   "cell_type": "code",
   "execution_count": 132,
   "metadata": {},
   "outputs": [
    {
     "name": "stdout",
     "output_type": "stream",
     "text": [
      "Training Score:  0.9520323697568303\n",
      "Testing score:  0.8888289190204217\n",
      "Mean Squared Error:  0.007875178051497605\n"
     ]
    }
   ],
   "source": [
    "svr = SVR(kernel='rbf', degree=8)\n",
    "svr.fit(X_train, y_train)\n",
    "y_pred  =svr.predict(X_test)\n",
    "print('Training Score: ', svr.score(X_train, y_train))\n",
    "print('Testing score: ', svr.score(X_test, y_test))\n",
    "print('Mean Squared Error: ', mean_squared_error(y_test, y_pred))"
   ]
  },
  {
   "cell_type": "code",
   "execution_count": 133,
   "metadata": {},
   "outputs": [
    {
     "name": "stdout",
     "output_type": "stream",
     "text": [
      "Training Score:  -4.952505572766631\n",
      "Testing score:  -6.38149080366869\n",
      "Mean Squared Error:  0.5228927689842424\n"
     ]
    }
   ],
   "source": [
    "svr = SVR(kernel='sigmoid', degree=8)\n",
    "svr.fit(X_train, y_train)\n",
    "y_pred  =svr.predict(X_test)\n",
    "print('Training Score: ', svr.score(X_train, y_train))\n",
    "print('Testing score: ', svr.score(X_test, y_test))\n",
    "print('Mean Squared Error: ', mean_squared_error(y_test, y_pred))"
   ]
  },
  {
   "cell_type": "code",
   "execution_count": 134,
   "metadata": {},
   "outputs": [
    {
     "data": {
      "text/html": [
       "<div>\n",
       "<style scoped>\n",
       "    .dataframe tbody tr th:only-of-type {\n",
       "        vertical-align: middle;\n",
       "    }\n",
       "\n",
       "    .dataframe tbody tr th {\n",
       "        vertical-align: top;\n",
       "    }\n",
       "\n",
       "    .dataframe thead th {\n",
       "        text-align: right;\n",
       "    }\n",
       "</style>\n",
       "<table border=\"1\" class=\"dataframe\">\n",
       "  <thead>\n",
       "    <tr style=\"text-align: right;\">\n",
       "      <th></th>\n",
       "      <th>Actual</th>\n",
       "      <th>Predicted</th>\n",
       "    </tr>\n",
       "    <tr>\n",
       "      <th>Date_Time</th>\n",
       "      <th></th>\n",
       "      <th></th>\n",
       "    </tr>\n",
       "  </thead>\n",
       "  <tbody>\n",
       "    <tr>\n",
       "      <td>2009-03-31</td>\n",
       "      <td>1.225081</td>\n",
       "      <td>1.491021</td>\n",
       "    </tr>\n",
       "    <tr>\n",
       "      <td>2010-04-30</td>\n",
       "      <td>1.028684</td>\n",
       "      <td>-0.066258</td>\n",
       "    </tr>\n",
       "    <tr>\n",
       "      <td>2009-02-28</td>\n",
       "      <td>1.247793</td>\n",
       "      <td>1.327043</td>\n",
       "    </tr>\n",
       "    <tr>\n",
       "      <td>2010-07-31</td>\n",
       "      <td>0.721551</td>\n",
       "      <td>1.244900</td>\n",
       "    </tr>\n",
       "    <tr>\n",
       "      <td>2008-12-31</td>\n",
       "      <td>1.275189</td>\n",
       "      <td>0.484360</td>\n",
       "    </tr>\n",
       "    <tr>\n",
       "      <td>2010-01-31</td>\n",
       "      <td>1.430279</td>\n",
       "      <td>2.205442</td>\n",
       "    </tr>\n",
       "    <tr>\n",
       "      <td>2007-12-31</td>\n",
       "      <td>1.626474</td>\n",
       "      <td>0.476417</td>\n",
       "    </tr>\n",
       "    <tr>\n",
       "      <td>2008-07-31</td>\n",
       "      <td>0.795980</td>\n",
       "      <td>-0.241710</td>\n",
       "    </tr>\n",
       "    <tr>\n",
       "      <td>2007-04-30</td>\n",
       "      <td>0.891857</td>\n",
       "      <td>-0.126093</td>\n",
       "    </tr>\n",
       "    <tr>\n",
       "      <td>2009-01-31</td>\n",
       "      <td>1.410677</td>\n",
       "      <td>1.389842</td>\n",
       "    </tr>\n",
       "    <tr>\n",
       "      <td>2007-08-31</td>\n",
       "      <td>0.765315</td>\n",
       "      <td>-0.154640</td>\n",
       "    </tr>\n",
       "    <tr>\n",
       "      <td>2007-03-31</td>\n",
       "      <td>1.317567</td>\n",
       "      <td>1.014357</td>\n",
       "    </tr>\n",
       "    <tr>\n",
       "      <td>2007-06-30</td>\n",
       "      <td>0.826814</td>\n",
       "      <td>0.074038</td>\n",
       "    </tr>\n",
       "    <tr>\n",
       "      <td>2010-03-31</td>\n",
       "      <td>1.130674</td>\n",
       "      <td>0.621323</td>\n",
       "    </tr>\n",
       "    <tr>\n",
       "      <td>2009-09-30</td>\n",
       "      <td>0.987076</td>\n",
       "      <td>0.188058</td>\n",
       "    </tr>\n",
       "    <tr>\n",
       "      <td>2008-01-31</td>\n",
       "      <td>1.458436</td>\n",
       "      <td>1.278759</td>\n",
       "    </tr>\n",
       "    <tr>\n",
       "      <td>2008-05-31</td>\n",
       "      <td>1.024281</td>\n",
       "      <td>0.532425</td>\n",
       "    </tr>\n",
       "  </tbody>\n",
       "</table>\n",
       "</div>"
      ],
      "text/plain": [
       "              Actual  Predicted\n",
       "Date_Time                      \n",
       "2009-03-31  1.225081   1.491021\n",
       "2010-04-30  1.028684  -0.066258\n",
       "2009-02-28  1.247793   1.327043\n",
       "2010-07-31  0.721551   1.244900\n",
       "2008-12-31  1.275189   0.484360\n",
       "2010-01-31  1.430279   2.205442\n",
       "2007-12-31  1.626474   0.476417\n",
       "2008-07-31  0.795980  -0.241710\n",
       "2007-04-30  0.891857  -0.126093\n",
       "2009-01-31  1.410677   1.389842\n",
       "2007-08-31  0.765315  -0.154640\n",
       "2007-03-31  1.317567   1.014357\n",
       "2007-06-30  0.826814   0.074038\n",
       "2010-03-31  1.130674   0.621323\n",
       "2009-09-30  0.987076   0.188058\n",
       "2008-01-31  1.458436   1.278759\n",
       "2008-05-31  1.024281   0.532425"
      ]
     },
     "execution_count": 134,
     "metadata": {},
     "output_type": "execute_result"
    }
   ],
   "source": [
    "results=pd.DataFrame({'Actual':y_test, 'Predicted':y_pred})  \n",
    "results"
   ]
  },
  {
   "cell_type": "code",
   "execution_count": 135,
   "metadata": {},
   "outputs": [
    {
     "data": {
      "text/plain": [
       "0.7231132476896287"
      ]
     },
     "execution_count": 135,
     "metadata": {},
     "output_type": "execute_result"
    }
   ],
   "source": [
    "# RMSE by Pandas\n",
    "((results.Actual - results.Predicted) ** 2).mean() ** .5"
   ]
  },
  {
   "cell_type": "code",
   "execution_count": 136,
   "metadata": {},
   "outputs": [
    {
     "data": {
      "text/plain": [
       "0.7231132476896288"
      ]
     },
     "execution_count": 136,
     "metadata": {},
     "output_type": "execute_result"
    }
   ],
   "source": [
    "# RMSE by Numpy\n",
    "(np.diff(results.values) ** 2).mean() ** .5"
   ]
  }
 ],
 "metadata": {
  "kernelspec": {
   "display_name": "Python 3",
   "language": "python",
   "name": "python3"
  },
  "language_info": {
   "codemirror_mode": {
    "name": "ipython",
    "version": 3
   },
   "file_extension": ".py",
   "mimetype": "text/x-python",
   "name": "python",
   "nbconvert_exporter": "python",
   "pygments_lexer": "ipython3",
   "version": "3.7.4"
  }
 },
 "nbformat": 4,
 "nbformat_minor": 2
}
