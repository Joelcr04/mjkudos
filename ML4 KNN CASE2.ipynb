{
 "cells": [
  {
   "cell_type": "markdown",
   "metadata": {},
   "source": [
    "### Importing Dataset and Libraries"
   ]
  },
  {
   "cell_type": "code",
   "execution_count": 1,
   "metadata": {},
   "outputs": [],
   "source": [
    "import numpy as np  \n",
    "import matplotlib.pyplot as plt  \n",
    "import pandas as pd "
   ]
  },
  {
   "cell_type": "code",
   "execution_count": 2,
   "metadata": {},
   "outputs": [],
   "source": [
    "url = \"https://archive.ics.uci.edu/ml/machine-learning-databases/iris/iris.data\"\n",
    "# Assign column names to the dataset\n",
    "names2 = ['sepal-length', 'sepal-width', 'petal-length', \\\n",
    "         'petal-width', 'Class']\n",
    "# Read dataset to pandas dataframe\n",
    "dataset = pd.read_csv(url, names=names2) "
   ]
  },
  {
   "cell_type": "code",
   "execution_count": 3,
   "metadata": {},
   "outputs": [
    {
     "data": {
      "text/html": [
       "<div>\n",
       "<style scoped>\n",
       "    .dataframe tbody tr th:only-of-type {\n",
       "        vertical-align: middle;\n",
       "    }\n",
       "\n",
       "    .dataframe tbody tr th {\n",
       "        vertical-align: top;\n",
       "    }\n",
       "\n",
       "    .dataframe thead th {\n",
       "        text-align: right;\n",
       "    }\n",
       "</style>\n",
       "<table border=\"1\" class=\"dataframe\">\n",
       "  <thead>\n",
       "    <tr style=\"text-align: right;\">\n",
       "      <th></th>\n",
       "      <th>sepal-length</th>\n",
       "      <th>sepal-width</th>\n",
       "      <th>petal-length</th>\n",
       "      <th>petal-width</th>\n",
       "      <th>Class</th>\n",
       "    </tr>\n",
       "  </thead>\n",
       "  <tbody>\n",
       "    <tr>\n",
       "      <td>0</td>\n",
       "      <td>5.1</td>\n",
       "      <td>3.5</td>\n",
       "      <td>1.4</td>\n",
       "      <td>0.2</td>\n",
       "      <td>Iris-setosa</td>\n",
       "    </tr>\n",
       "    <tr>\n",
       "      <td>1</td>\n",
       "      <td>4.9</td>\n",
       "      <td>3.0</td>\n",
       "      <td>1.4</td>\n",
       "      <td>0.2</td>\n",
       "      <td>Iris-setosa</td>\n",
       "    </tr>\n",
       "    <tr>\n",
       "      <td>2</td>\n",
       "      <td>4.7</td>\n",
       "      <td>3.2</td>\n",
       "      <td>1.3</td>\n",
       "      <td>0.2</td>\n",
       "      <td>Iris-setosa</td>\n",
       "    </tr>\n",
       "    <tr>\n",
       "      <td>3</td>\n",
       "      <td>4.6</td>\n",
       "      <td>3.1</td>\n",
       "      <td>1.5</td>\n",
       "      <td>0.2</td>\n",
       "      <td>Iris-setosa</td>\n",
       "    </tr>\n",
       "    <tr>\n",
       "      <td>4</td>\n",
       "      <td>5.0</td>\n",
       "      <td>3.6</td>\n",
       "      <td>1.4</td>\n",
       "      <td>0.2</td>\n",
       "      <td>Iris-setosa</td>\n",
       "    </tr>\n",
       "  </tbody>\n",
       "</table>\n",
       "</div>"
      ],
      "text/plain": [
       "   sepal-length  sepal-width  petal-length  petal-width        Class\n",
       "0           5.1          3.5           1.4          0.2  Iris-setosa\n",
       "1           4.9          3.0           1.4          0.2  Iris-setosa\n",
       "2           4.7          3.2           1.3          0.2  Iris-setosa\n",
       "3           4.6          3.1           1.5          0.2  Iris-setosa\n",
       "4           5.0          3.6           1.4          0.2  Iris-setosa"
      ]
     },
     "execution_count": 3,
     "metadata": {},
     "output_type": "execute_result"
    }
   ],
   "source": [
    "dataset.head()  "
   ]
  },
  {
   "cell_type": "markdown",
   "metadata": {},
   "source": [
    "### Pre-processing"
   ]
  },
  {
   "cell_type": "code",
   "execution_count": 4,
   "metadata": {},
   "outputs": [],
   "source": [
    "#dataset.iloc[:, -1]"
   ]
  },
  {
   "cell_type": "code",
   "execution_count": 5,
   "metadata": {},
   "outputs": [
    {
     "data": {
      "text/plain": [
       "numpy.ndarray"
      ]
     },
     "execution_count": 5,
     "metadata": {},
     "output_type": "execute_result"
    }
   ],
   "source": [
    "y = dataset.iloc[:, -1].values\n",
    "y\n",
    "type(y)"
   ]
  },
  {
   "cell_type": "code",
   "execution_count": 6,
   "metadata": {},
   "outputs": [
    {
     "name": "stdout",
     "output_type": "stream",
     "text": [
      "[[5.1 3.5 1.4 0.2]\n",
      " [4.9 3.  1.4 0.2]\n",
      " [4.7 3.2 1.3 0.2]\n",
      " [4.6 3.1 1.5 0.2]\n",
      " [5.  3.6 1.4 0.2]\n",
      " [5.4 3.9 1.7 0.4]\n",
      " [4.6 3.4 1.4 0.3]\n",
      " [5.  3.4 1.5 0.2]\n",
      " [4.4 2.9 1.4 0.2]\n",
      " [4.9 3.1 1.5 0.1]\n",
      " [5.4 3.7 1.5 0.2]\n",
      " [4.8 3.4 1.6 0.2]\n",
      " [4.8 3.  1.4 0.1]\n",
      " [4.3 3.  1.1 0.1]\n",
      " [5.8 4.  1.2 0.2]\n",
      " [5.7 4.4 1.5 0.4]\n",
      " [5.4 3.9 1.3 0.4]\n",
      " [5.1 3.5 1.4 0.3]\n",
      " [5.7 3.8 1.7 0.3]\n",
      " [5.1 3.8 1.5 0.3]\n",
      " [5.4 3.4 1.7 0.2]\n",
      " [5.1 3.7 1.5 0.4]\n",
      " [4.6 3.6 1.  0.2]\n",
      " [5.1 3.3 1.7 0.5]\n",
      " [4.8 3.4 1.9 0.2]\n",
      " [5.  3.  1.6 0.2]\n",
      " [5.  3.4 1.6 0.4]\n",
      " [5.2 3.5 1.5 0.2]\n",
      " [5.2 3.4 1.4 0.2]\n",
      " [4.7 3.2 1.6 0.2]\n",
      " [4.8 3.1 1.6 0.2]\n",
      " [5.4 3.4 1.5 0.4]\n",
      " [5.2 4.1 1.5 0.1]\n",
      " [5.5 4.2 1.4 0.2]\n",
      " [4.9 3.1 1.5 0.1]\n",
      " [5.  3.2 1.2 0.2]\n",
      " [5.5 3.5 1.3 0.2]\n",
      " [4.9 3.1 1.5 0.1]\n",
      " [4.4 3.  1.3 0.2]\n",
      " [5.1 3.4 1.5 0.2]\n",
      " [5.  3.5 1.3 0.3]\n",
      " [4.5 2.3 1.3 0.3]\n",
      " [4.4 3.2 1.3 0.2]\n",
      " [5.  3.5 1.6 0.6]\n",
      " [5.1 3.8 1.9 0.4]\n",
      " [4.8 3.  1.4 0.3]\n",
      " [5.1 3.8 1.6 0.2]\n",
      " [4.6 3.2 1.4 0.2]\n",
      " [5.3 3.7 1.5 0.2]\n",
      " [5.  3.3 1.4 0.2]\n",
      " [7.  3.2 4.7 1.4]\n",
      " [6.4 3.2 4.5 1.5]\n",
      " [6.9 3.1 4.9 1.5]\n",
      " [5.5 2.3 4.  1.3]\n",
      " [6.5 2.8 4.6 1.5]\n",
      " [5.7 2.8 4.5 1.3]\n",
      " [6.3 3.3 4.7 1.6]\n",
      " [4.9 2.4 3.3 1. ]\n",
      " [6.6 2.9 4.6 1.3]\n",
      " [5.2 2.7 3.9 1.4]\n",
      " [5.  2.  3.5 1. ]\n",
      " [5.9 3.  4.2 1.5]\n",
      " [6.  2.2 4.  1. ]\n",
      " [6.1 2.9 4.7 1.4]\n",
      " [5.6 2.9 3.6 1.3]\n",
      " [6.7 3.1 4.4 1.4]\n",
      " [5.6 3.  4.5 1.5]\n",
      " [5.8 2.7 4.1 1. ]\n",
      " [6.2 2.2 4.5 1.5]\n",
      " [5.6 2.5 3.9 1.1]\n",
      " [5.9 3.2 4.8 1.8]\n",
      " [6.1 2.8 4.  1.3]\n",
      " [6.3 2.5 4.9 1.5]\n",
      " [6.1 2.8 4.7 1.2]\n",
      " [6.4 2.9 4.3 1.3]\n",
      " [6.6 3.  4.4 1.4]\n",
      " [6.8 2.8 4.8 1.4]\n",
      " [6.7 3.  5.  1.7]\n",
      " [6.  2.9 4.5 1.5]\n",
      " [5.7 2.6 3.5 1. ]\n",
      " [5.5 2.4 3.8 1.1]\n",
      " [5.5 2.4 3.7 1. ]\n",
      " [5.8 2.7 3.9 1.2]\n",
      " [6.  2.7 5.1 1.6]\n",
      " [5.4 3.  4.5 1.5]\n",
      " [6.  3.4 4.5 1.6]\n",
      " [6.7 3.1 4.7 1.5]\n",
      " [6.3 2.3 4.4 1.3]\n",
      " [5.6 3.  4.1 1.3]\n",
      " [5.5 2.5 4.  1.3]\n",
      " [5.5 2.6 4.4 1.2]\n",
      " [6.1 3.  4.6 1.4]\n",
      " [5.8 2.6 4.  1.2]\n",
      " [5.  2.3 3.3 1. ]\n",
      " [5.6 2.7 4.2 1.3]\n",
      " [5.7 3.  4.2 1.2]\n",
      " [5.7 2.9 4.2 1.3]\n",
      " [6.2 2.9 4.3 1.3]\n",
      " [5.1 2.5 3.  1.1]\n",
      " [5.7 2.8 4.1 1.3]\n",
      " [6.3 3.3 6.  2.5]\n",
      " [5.8 2.7 5.1 1.9]\n",
      " [7.1 3.  5.9 2.1]\n",
      " [6.3 2.9 5.6 1.8]\n",
      " [6.5 3.  5.8 2.2]\n",
      " [7.6 3.  6.6 2.1]\n",
      " [4.9 2.5 4.5 1.7]\n",
      " [7.3 2.9 6.3 1.8]\n",
      " [6.7 2.5 5.8 1.8]\n",
      " [7.2 3.6 6.1 2.5]\n",
      " [6.5 3.2 5.1 2. ]\n",
      " [6.4 2.7 5.3 1.9]\n",
      " [6.8 3.  5.5 2.1]\n",
      " [5.7 2.5 5.  2. ]\n",
      " [5.8 2.8 5.1 2.4]\n",
      " [6.4 3.2 5.3 2.3]\n",
      " [6.5 3.  5.5 1.8]\n",
      " [7.7 3.8 6.7 2.2]\n",
      " [7.7 2.6 6.9 2.3]\n",
      " [6.  2.2 5.  1.5]\n",
      " [6.9 3.2 5.7 2.3]\n",
      " [5.6 2.8 4.9 2. ]\n",
      " [7.7 2.8 6.7 2. ]\n",
      " [6.3 2.7 4.9 1.8]\n",
      " [6.7 3.3 5.7 2.1]\n",
      " [7.2 3.2 6.  1.8]\n",
      " [6.2 2.8 4.8 1.8]\n",
      " [6.1 3.  4.9 1.8]\n",
      " [6.4 2.8 5.6 2.1]\n",
      " [7.2 3.  5.8 1.6]\n",
      " [7.4 2.8 6.1 1.9]\n",
      " [7.9 3.8 6.4 2. ]\n",
      " [6.4 2.8 5.6 2.2]\n",
      " [6.3 2.8 5.1 1.5]\n",
      " [6.1 2.6 5.6 1.4]\n",
      " [7.7 3.  6.1 2.3]\n",
      " [6.3 3.4 5.6 2.4]\n",
      " [6.4 3.1 5.5 1.8]\n",
      " [6.  3.  4.8 1.8]\n",
      " [6.9 3.1 5.4 2.1]\n",
      " [6.7 3.1 5.6 2.4]\n",
      " [6.9 3.1 5.1 2.3]\n",
      " [5.8 2.7 5.1 1.9]\n",
      " [6.8 3.2 5.9 2.3]\n",
      " [6.7 3.3 5.7 2.5]\n",
      " [6.7 3.  5.2 2.3]\n",
      " [6.3 2.5 5.  1.9]\n",
      " [6.5 3.  5.2 2. ]\n",
      " [6.2 3.4 5.4 2.3]\n",
      " [5.9 3.  5.1 1.8]]\n",
      "['Iris-setosa' 'Iris-setosa' 'Iris-setosa' 'Iris-setosa' 'Iris-setosa'\n",
      " 'Iris-setosa' 'Iris-setosa' 'Iris-setosa' 'Iris-setosa' 'Iris-setosa'\n",
      " 'Iris-setosa' 'Iris-setosa' 'Iris-setosa' 'Iris-setosa' 'Iris-setosa'\n",
      " 'Iris-setosa' 'Iris-setosa' 'Iris-setosa' 'Iris-setosa' 'Iris-setosa'\n",
      " 'Iris-setosa' 'Iris-setosa' 'Iris-setosa' 'Iris-setosa' 'Iris-setosa'\n",
      " 'Iris-setosa' 'Iris-setosa' 'Iris-setosa' 'Iris-setosa' 'Iris-setosa'\n",
      " 'Iris-setosa' 'Iris-setosa' 'Iris-setosa' 'Iris-setosa' 'Iris-setosa'\n",
      " 'Iris-setosa' 'Iris-setosa' 'Iris-setosa' 'Iris-setosa' 'Iris-setosa'\n",
      " 'Iris-setosa' 'Iris-setosa' 'Iris-setosa' 'Iris-setosa' 'Iris-setosa'\n",
      " 'Iris-setosa' 'Iris-setosa' 'Iris-setosa' 'Iris-setosa' 'Iris-setosa'\n",
      " 'Iris-versicolor' 'Iris-versicolor' 'Iris-versicolor' 'Iris-versicolor'\n",
      " 'Iris-versicolor' 'Iris-versicolor' 'Iris-versicolor' 'Iris-versicolor'\n",
      " 'Iris-versicolor' 'Iris-versicolor' 'Iris-versicolor' 'Iris-versicolor'\n",
      " 'Iris-versicolor' 'Iris-versicolor' 'Iris-versicolor' 'Iris-versicolor'\n",
      " 'Iris-versicolor' 'Iris-versicolor' 'Iris-versicolor' 'Iris-versicolor'\n",
      " 'Iris-versicolor' 'Iris-versicolor' 'Iris-versicolor' 'Iris-versicolor'\n",
      " 'Iris-versicolor' 'Iris-versicolor' 'Iris-versicolor' 'Iris-versicolor'\n",
      " 'Iris-versicolor' 'Iris-versicolor' 'Iris-versicolor' 'Iris-versicolor'\n",
      " 'Iris-versicolor' 'Iris-versicolor' 'Iris-versicolor' 'Iris-versicolor'\n",
      " 'Iris-versicolor' 'Iris-versicolor' 'Iris-versicolor' 'Iris-versicolor'\n",
      " 'Iris-versicolor' 'Iris-versicolor' 'Iris-versicolor' 'Iris-versicolor'\n",
      " 'Iris-versicolor' 'Iris-versicolor' 'Iris-versicolor' 'Iris-versicolor'\n",
      " 'Iris-versicolor' 'Iris-versicolor' 'Iris-virginica' 'Iris-virginica'\n",
      " 'Iris-virginica' 'Iris-virginica' 'Iris-virginica' 'Iris-virginica'\n",
      " 'Iris-virginica' 'Iris-virginica' 'Iris-virginica' 'Iris-virginica'\n",
      " 'Iris-virginica' 'Iris-virginica' 'Iris-virginica' 'Iris-virginica'\n",
      " 'Iris-virginica' 'Iris-virginica' 'Iris-virginica' 'Iris-virginica'\n",
      " 'Iris-virginica' 'Iris-virginica' 'Iris-virginica' 'Iris-virginica'\n",
      " 'Iris-virginica' 'Iris-virginica' 'Iris-virginica' 'Iris-virginica'\n",
      " 'Iris-virginica' 'Iris-virginica' 'Iris-virginica' 'Iris-virginica'\n",
      " 'Iris-virginica' 'Iris-virginica' 'Iris-virginica' 'Iris-virginica'\n",
      " 'Iris-virginica' 'Iris-virginica' 'Iris-virginica' 'Iris-virginica'\n",
      " 'Iris-virginica' 'Iris-virginica' 'Iris-virginica' 'Iris-virginica'\n",
      " 'Iris-virginica' 'Iris-virginica' 'Iris-virginica' 'Iris-virginica'\n",
      " 'Iris-virginica' 'Iris-virginica' 'Iris-virginica' 'Iris-virginica']\n"
     ]
    }
   ],
   "source": [
    "X = dataset.iloc[:, :4].values\n",
    "y = dataset.iloc[:, 4].values\n",
    "print(X); print(y)"
   ]
  },
  {
   "cell_type": "code",
   "execution_count": 7,
   "metadata": {},
   "outputs": [],
   "source": [
    "from sklearn.model_selection import train_test_split  \n",
    "X_train, X_test, y_train, y_test = train_test_split(X, y, \\\n",
    "                                                    test_size=0.20) "
   ]
  },
  {
   "cell_type": "code",
   "execution_count": 8,
   "metadata": {},
   "outputs": [],
   "source": [
    "from sklearn.preprocessing import StandardScaler  \n",
    "\n",
    "scaler1 = StandardScaler()  \n",
    "scaler1.fit(X_train)\n",
    "\n",
    "X_train = scaler1.transform(X_train)  \n",
    "X_test = scaler1.transform(X_test) "
   ]
  },
  {
   "cell_type": "code",
   "execution_count": 9,
   "metadata": {},
   "outputs": [
    {
     "data": {
      "text/plain": [
       "array([[-0.02682889, -0.98120476,  0.12850864, -0.01192389],\n",
       "       [-0.52213138,  0.87669775, -1.28367425, -1.05255427],\n",
       "       [ 0.71612486,  0.41222212,  0.41094522,  0.3783125 ],\n",
       "       [-0.15065451,  3.19907589, -1.28367425, -1.05255427],\n",
       "       [-1.38891076,  0.41222212, -1.22718693, -1.31271187],\n",
       "       [-1.14125951,  0.17998431, -1.28367425, -1.44279067],\n",
       "       [-0.89360826,  1.805649  , -1.28367425, -1.18263307],\n",
       "       [-0.76978263,  2.50236245, -1.28367425, -1.44279067],\n",
       "       [ 0.71612486, -0.51672914,  1.03230569,  1.15878529],\n",
       "       [ 1.33525299,  0.17998431,  0.91933106,  1.15878529],\n",
       "       [ 0.59229924,  0.64445993,  0.52391985,  0.5083913 ],\n",
       "       [-0.02682889, -0.74896695,  0.18499596, -0.27208149],\n",
       "       [-0.27448013, -0.28449132, -0.09744062,  0.11815491],\n",
       "       [ 0.22082236, -1.91015602,  0.6933818 ,  0.3783125 ],\n",
       "       [-0.39830576, -1.67791821,  0.12850864,  0.11815491],\n",
       "       [-1.14125951,  0.17998431, -1.28367425, -1.44279067],\n",
       "       [-0.89360826,  1.10893556, -1.34016156, -1.18263307],\n",
       "       [ 0.71612486,  0.17998431,  0.97581838,  0.7685489 ],\n",
       "       [-0.27448013, -0.51672914,  0.63689448,  1.02870649],\n",
       "       [-0.89360826,  0.64445993, -1.17069962, -0.92247547],\n",
       "       [-1.26508513,  0.87669775, -1.22718693, -1.31271187],\n",
       "       [-1.51273638,  0.41222212, -1.34016156, -1.31271187],\n",
       "       [-1.26508513,  0.17998431, -1.22718693, -1.31271187],\n",
       "       [-1.14125951, -0.05225351, -1.34016156, -1.31271187],\n",
       "       [ 0.46847361, -0.51672914,  0.58040717,  0.7685489 ],\n",
       "       [-0.27448013, -0.74896695,  0.24148327,  0.11815491],\n",
       "       [ 0.71612486, -0.51672914,  1.03230569,  1.28886409],\n",
       "       [ 1.70672986,  0.41222212,  1.25825496,  0.7685489 ],\n",
       "       [-0.52213138,  2.03788682, -1.39664888, -1.05255427],\n",
       "       [ 0.83995049, -0.51672914,  0.46743254,  0.3783125 ],\n",
       "       [ 0.71612486, -0.28449132,  0.29797059,  0.11815491],\n",
       "       [ 0.59229924, -1.21344258,  0.6933818 ,  0.8986277 ],\n",
       "       [-0.52213138,  2.03788682, -1.17069962, -1.05255427],\n",
       "       [ 1.08760174, -0.05225351,  0.80635643,  1.41894289],\n",
       "       [-1.26508513, -0.05225351, -1.34016156, -1.44279067],\n",
       "       [ 0.59229924,  0.64445993,  1.25825496,  1.67910048],\n",
       "       [-1.01743388, -0.05225351, -1.22718693, -1.31271187],\n",
       "       [-0.89360826,  1.10893556, -1.34016156, -1.31271187],\n",
       "       [-0.39830576, -1.21344258,  0.12850864,  0.11815491],\n",
       "       [-1.76038763,  0.41222212, -1.39664888, -1.31271187],\n",
       "       [ 0.34464799, -0.05225351,  0.63689448,  0.7685489 ],\n",
       "       [-1.26508513,  0.87669775, -1.05772499, -1.31271187],\n",
       "       [-0.27448013, -0.05225351,  0.41094522,  0.3783125 ],\n",
       "       [ 1.58290424, -0.05225351,  1.20176764,  1.15878529],\n",
       "       [ 0.96377611, -0.28449132,  0.46743254,  0.11815491],\n",
       "       [-0.39830576, -1.44568039,  0.01553401, -0.14200269],\n",
       "       [-1.01743388,  0.64445993, -1.34016156, -1.31271187],\n",
       "       [ 2.20203236, -0.05225351,  1.59717885,  1.15878529],\n",
       "       [-0.02682889,  2.27012463, -1.4531362 , -1.31271187],\n",
       "       [ 0.59229924, -0.51672914,  0.74986912,  0.3783125 ],\n",
       "       [-0.76978263,  0.87669775, -1.34016156, -1.31271187],\n",
       "       [-1.01743388,  1.10893556, -1.22718693, -0.79239668],\n",
       "       [-0.27448013, -0.05225351,  0.18499596,  0.11815491],\n",
       "       [-0.02682889, -0.74896695,  0.74986912,  0.8986277 ],\n",
       "       [-1.76038763, -0.05225351, -1.39664888, -1.31271187],\n",
       "       [ 0.83995049, -0.05225351,  1.14528032,  1.28886409],\n",
       "       [-1.63656201, -1.67791821, -1.39664888, -1.18263307],\n",
       "       [-1.01743388,  0.87669775, -1.22718693, -1.05255427],\n",
       "       [ 1.21142736, -0.51672914,  0.58040717,  0.24823371],\n",
       "       [-1.01743388,  1.34117338, -1.34016156, -1.31271187],\n",
       "       [-1.88421326, -0.05225351, -1.50962351, -1.44279067],\n",
       "       [ 1.08760174,  0.64445993,  1.08879301,  1.15878529],\n",
       "       [ 1.33525299,  0.41222212,  1.08879301,  1.41894289],\n",
       "       [ 1.21142736,  0.41222212,  1.20176764,  1.41894289],\n",
       "       [ 1.70672986,  1.34117338,  1.31474227,  1.67910048],\n",
       "       [-1.01743388,  1.10893556, -1.39664888, -1.18263307],\n",
       "       [ 0.83995049,  0.41222212,  0.74986912,  1.02870649],\n",
       "       [-0.89360826,  1.57341119, -1.28367425, -1.05255427],\n",
       "       [ 1.83055548, -0.28449132,  1.4277169 ,  0.7685489 ],\n",
       "       [ 1.08760174, -0.05225351,  0.6933818 ,  0.6384701 ],\n",
       "       [-0.76978263, -0.74896695,  0.07202133,  0.24823371],\n",
       "       [ 0.59229924, -1.21344258,  0.63689448,  0.3783125 ],\n",
       "       [-0.76978263,  1.10893556, -1.28367425, -1.31271187],\n",
       "       [ 0.34464799, -0.05225351,  0.46743254,  0.24823371],\n",
       "       [-1.01743388,  0.41222212, -1.4531362 , -1.31271187],\n",
       "       [ 0.83995049, -0.05225351,  0.80635643,  1.02870649],\n",
       "       [-0.89360826,  1.805649  , -1.05772499, -1.05255427],\n",
       "       [-1.01743388,  0.87669775, -1.28367425, -1.31271187],\n",
       "       [ 1.08760174, -1.21344258,  1.14528032,  0.7685489 ],\n",
       "       [ 0.22082236, -1.91015602,  0.12850864, -0.27208149],\n",
       "       [ 0.34464799, -0.51672914,  0.12850864,  0.11815491],\n",
       "       [ 0.22082236, -0.74896695,  0.74986912,  0.5083913 ],\n",
       "       [ 1.33525299,  0.17998431,  0.63689448,  0.3783125 ],\n",
       "       [ 2.32585798, -0.05225351,  1.31474227,  1.41894289],\n",
       "       [-1.01743388, -1.67791821, -0.26690257, -0.27208149],\n",
       "       [ 2.32585798, -0.51672914,  1.65366617,  1.02870649],\n",
       "       [-0.39830576, -0.98120476,  0.35445791, -0.01192389],\n",
       "       [ 0.34464799, -0.98120476,  1.03230569,  0.24823371],\n",
       "       [-0.89360826, -1.21344258, -0.43636451, -0.14200269],\n",
       "       [-0.52213138, -0.05225351,  0.41094522,  0.3783125 ],\n",
       "       [ 0.59229924, -1.67791821,  0.35445791,  0.11815491],\n",
       "       [-0.39830576, -1.44568039, -0.0409533 , -0.27208149],\n",
       "       [-1.14125951, -1.21344258,  0.41094522,  0.6384701 ],\n",
       "       [-1.26508513, -0.05225351, -1.34016156, -1.18263307],\n",
       "       [-0.52213138,  1.57341119, -1.28367425, -1.31271187],\n",
       "       [ 0.46847361,  0.87669775,  0.91933106,  1.41894289],\n",
       "       [ 0.71612486, -0.74896695,  0.86284375,  0.8986277 ],\n",
       "       [ 0.46847361, -0.28449132,  0.29797059,  0.11815491],\n",
       "       [ 2.32585798, -0.98120476,  1.7666408 ,  1.41894289],\n",
       "       [ 0.59229924, -0.28449132,  1.03230569,  0.7685489 ],\n",
       "       [ 0.59229924,  0.87669775,  1.03230569,  1.54902168],\n",
       "       [ 1.08760174,  0.17998431,  0.52391985,  0.3783125 ],\n",
       "       [ 0.83995049, -0.05225351,  0.97581838,  0.7685489 ],\n",
       "       [-1.01743388, -2.37463165, -0.15392794, -0.27208149],\n",
       "       [-0.15065451, -0.28449132,  0.24148327,  0.11815491],\n",
       "       [ 1.08760174,  0.64445993,  1.08879301,  1.67910048],\n",
       "       [ 0.46847361, -1.91015602,  0.41094522,  0.3783125 ],\n",
       "       [ 0.34464799, -0.28449132,  0.52391985,  0.24823371],\n",
       "       [ 0.71612486,  0.41222212,  0.86284375,  1.41894289],\n",
       "       [-0.15065451, -0.98120476, -0.15392794, -0.27208149],\n",
       "       [-0.15065451, -0.51672914,  0.41094522,  0.11815491],\n",
       "       [ 0.09699674, -0.05225351,  0.74986912,  0.7685489 ],\n",
       "       [-0.89360826,  0.87669775, -1.28367425, -1.31271187],\n",
       "       [-1.14125951,  0.17998431, -1.28367425, -1.44279067],\n",
       "       [-0.02682889, -0.51672914,  0.74986912,  1.54902168],\n",
       "       [-0.27448013, -1.21344258,  0.07202133, -0.14200269],\n",
       "       [-1.51273638,  1.34117338, -1.56611083, -1.31271187],\n",
       "       [ 1.70672986, -0.05225351,  1.14528032,  0.5083913 ],\n",
       "       [-0.15065451, -1.21344258,  0.6933818 ,  1.02870649],\n",
       "       [ 1.08760174,  0.17998431,  1.03230569,  1.54902168]])"
      ]
     },
     "execution_count": 9,
     "metadata": {},
     "output_type": "execute_result"
    }
   ],
   "source": [
    "X_train"
   ]
  },
  {
   "cell_type": "code",
   "execution_count": 10,
   "metadata": {},
   "outputs": [
    {
     "data": {
      "text/plain": [
       "array([[-1.76038763, -0.28449132, -1.34016156, -1.31271187],\n",
       "       [ 0.96377611, -0.05225351,  0.35445791,  0.24823371],\n",
       "       [ 0.22082236, -0.05225351,  0.58040717,  0.7685489 ],\n",
       "       [-0.64595701,  1.57341119, -1.28367425, -1.31271187],\n",
       "       [-0.89360826,  1.805649  , -1.22718693, -1.31271187],\n",
       "       [-0.39830576,  1.10893556, -1.39664888, -1.31271187],\n",
       "       [ 0.34464799, -0.51672914,  0.52391985, -0.01192389],\n",
       "       [ 0.59229924, -0.74896695,  0.63689448,  0.7685489 ],\n",
       "       [ 0.09699674, -0.05225351,  0.24148327,  0.3783125 ],\n",
       "       [-1.14125951, -1.44568039, -0.26690257, -0.27208149],\n",
       "       [-0.15065451, -0.05225351,  0.24148327, -0.01192389],\n",
       "       [-0.15065451, -0.51672914,  0.18499596,  0.11815491],\n",
       "       [ 2.57350923,  1.805649  ,  1.48420422,  1.02870649],\n",
       "       [ 1.95438111, -0.51672914,  1.31474227,  0.8986277 ],\n",
       "       [ 0.09699674,  0.41222212,  0.58040717,  0.7685489 ],\n",
       "       [ 1.21142736, -0.05225351,  0.97581838,  1.15878529],\n",
       "       [-0.15065451,  1.805649  , -1.17069962, -1.18263307],\n",
       "       [-1.38891076,  0.41222212, -1.39664888, -1.31271187],\n",
       "       [-1.51273638,  0.17998431, -1.28367425, -1.31271187],\n",
       "       [ 2.32585798,  1.805649  ,  1.65366617,  1.28886409],\n",
       "       [-0.02682889, -0.74896695,  0.74986912,  0.8986277 ],\n",
       "       [-1.51273638,  0.87669775, -1.34016156, -1.18263307],\n",
       "       [ 0.22082236,  0.87669775,  0.41094522,  0.5083913 ],\n",
       "       [-0.39830576,  2.73460026, -1.34016156, -1.31271187],\n",
       "       [ 1.33525299,  0.17998431,  0.74986912,  1.41894289],\n",
       "       [ 1.45907861,  0.41222212,  0.52391985,  0.24823371],\n",
       "       [-0.52213138,  0.87669775, -1.17069962, -1.31271187],\n",
       "       [-0.02682889, -0.74896695,  0.07202133, -0.01192389],\n",
       "       [ 0.22082236, -0.28449132,  0.41094522,  0.3783125 ],\n",
       "       [ 1.08760174,  0.17998431,  0.35445791,  0.24823371]])"
      ]
     },
     "execution_count": 10,
     "metadata": {},
     "output_type": "execute_result"
    }
   ],
   "source": [
    "X_test"
   ]
  },
  {
   "cell_type": "markdown",
   "metadata": {},
   "source": [
    "### Training & Results"
   ]
  },
  {
   "cell_type": "code",
   "execution_count": 11,
   "metadata": {},
   "outputs": [],
   "source": [
    "from sklearn.neighbors import KNeighborsClassifier  \n",
    "classifier1 = KNeighborsClassifier(n_neighbors=17)  \n",
    "classifier1.fit(X_train, y_train) \n",
    "\n",
    "y_pred = classifier1.predict(X_test) "
   ]
  },
  {
   "cell_type": "code",
   "execution_count": 12,
   "metadata": {},
   "outputs": [
    {
     "name": "stdout",
     "output_type": "stream",
     "text": [
      "[[10  0  0]\n",
      " [ 0 11  1]\n",
      " [ 0  0  8]]\n",
      "                 precision    recall  f1-score   support\n",
      "\n",
      "    Iris-setosa       1.00      1.00      1.00        10\n",
      "Iris-versicolor       1.00      0.92      0.96        12\n",
      " Iris-virginica       0.89      1.00      0.94         8\n",
      "\n",
      "       accuracy                           0.97        30\n",
      "      macro avg       0.96      0.97      0.97        30\n",
      "   weighted avg       0.97      0.97      0.97        30\n",
      "\n"
     ]
    }
   ],
   "source": [
    "from sklearn.metrics import classification_report, \\\n",
    "confusion_matrix  \n",
    "print(confusion_matrix(y_test, y_pred))  \n",
    "print(classification_report(y_test, y_pred)) "
   ]
  },
  {
   "cell_type": "code",
   "execution_count": 13,
   "metadata": {},
   "outputs": [],
   "source": [
    "#y_test"
   ]
  },
  {
   "cell_type": "code",
   "execution_count": 14,
   "metadata": {},
   "outputs": [],
   "source": [
    "#y_pred"
   ]
  },
  {
   "cell_type": "markdown",
   "metadata": {},
   "source": [
    "### Find best K Value"
   ]
  },
  {
   "cell_type": "code",
   "execution_count": 15,
   "metadata": {},
   "outputs": [],
   "source": [
    "error = []"
   ]
  },
  {
   "cell_type": "code",
   "execution_count": 16,
   "metadata": {},
   "outputs": [
    {
     "data": {
      "text/plain": [
       "[0.03333333333333333,\n",
       " 0.03333333333333333,\n",
       " 0.0,\n",
       " 0.03333333333333333,\n",
       " 0.03333333333333333,\n",
       " 0.0,\n",
       " 0.03333333333333333,\n",
       " 0.03333333333333333,\n",
       " 0.03333333333333333,\n",
       " 0.03333333333333333,\n",
       " 0.03333333333333333,\n",
       " 0.1,\n",
       " 0.1,\n",
       " 0.13333333333333333,\n",
       " 0.13333333333333333,\n",
       " 0.13333333333333333,\n",
       " 0.13333333333333333,\n",
       " 0.13333333333333333,\n",
       " 0.2,\n",
       " 0.16666666666666666]"
      ]
     },
     "execution_count": 16,
     "metadata": {},
     "output_type": "execute_result"
    }
   ],
   "source": [
    "# Calculating error for K values between 1 and 40\n",
    "for i in range(1, 40, 2):  \n",
    "    knn = KNeighborsClassifier(n_neighbors=i)\n",
    "    knn.fit(X_train, y_train)\n",
    "    pred_i = knn.predict(X_test)\n",
    "    \n",
    "    error.append(np.mean(pred_i != y_test))\n",
    "\n",
    "error"
   ]
  },
  {
   "cell_type": "code",
   "execution_count": 17,
   "metadata": {},
   "outputs": [
    {
     "data": {
      "text/plain": [
       "Text(0, 0.5, 'Mean Error')"
      ]
     },
     "execution_count": 17,
     "metadata": {},
     "output_type": "execute_result"
    },
    {
     "data": {
      "image/png": "[encoded data removed]",
      "text/plain": [
       "<Figure size 864x432 with 1 Axes>"
      ]
     },
     "metadata": {
      "needs_background": "light"
     },
     "output_type": "display_data"
    }
   ],
   "source": [
    "plt.figure(figsize=(12, 6))  \n",
    "plt.plot(range(1, 40, 2), error, color='red', linestyle='dashed', \\\n",
    "         marker='o', markerfacecolor='blue', markersize=10)\n",
    "plt.title('Error Rate K Value')  \n",
    "plt.xlabel('K Value')  \n",
    "plt.ylabel('Mean Error') "
   ]
  },
  {
   "cell_type": "code",
   "execution_count": null,
   "metadata": {},
   "outputs": [],
   "source": []
  },
  {
   "cell_type": "code",
   "execution_count": null,
   "metadata": {},
   "outputs": [],
   "source": []
  }
 ],
 "metadata": {
  "kernelspec": {
   "display_name": "Python 3",
   "language": "python",
   "name": "python3"
  },
  "language_info": {
   "codemirror_mode": {
    "name": "ipython",
    "version": 3
   },
   "file_extension": ".py",
   "mimetype": "text/x-python",
   "name": "python",
   "nbconvert_exporter": "python",
   "pygments_lexer": "ipython3",
   "version": "3.7.3"
  }
 },
 "nbformat": 4,
 "nbformat_minor": 2
}
